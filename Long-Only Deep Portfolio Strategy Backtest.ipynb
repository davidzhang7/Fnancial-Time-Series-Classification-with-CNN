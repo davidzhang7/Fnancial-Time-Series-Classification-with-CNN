{
 "cells": [
  {
   "cell_type": "code",
   "execution_count": 14,
   "metadata": {},
   "outputs": [],
   "source": [
    "import numpy as np\n",
    "import pandas as pd\n",
    "import pickle\n",
    "import numexpr as ne\n",
    "import matplotlib.pyplot as plt\n",
    "from functools import partial\n",
    "import re"
   ]
  },
  {
   "cell_type": "markdown",
   "metadata": {},
   "source": [
    "## Load raw price data for strategy backtest"
   ]
  },
  {
   "cell_type": "code",
   "execution_count": 3,
   "metadata": {},
   "outputs": [
    {
     "name": "stdout",
     "output_type": "stream",
     "text": [
      "            date     PRC       VOL   BIDLO   ASKHI\n",
      "PERMNO                                            \n",
      "63773   19960102  39.750   61400.0  39.125  39.875\n",
      "63773   19960103  39.875  105000.0  39.500  40.125\n",
      "63773   19960104  39.750   69500.0  39.500  40.000\n",
      "63773   19960105  40.500   42800.0  39.375  40.500\n",
      "63773   19960108  40.125   46300.0  40.125  40.625\n"
     ]
    }
   ],
   "source": [
    "with open('data/stockData_1', 'rb') as p:\n",
    "    df = pickle.load(p)\n",
    "    p.close()\n",
    "\n",
    "for i in range(2, 28):\n",
    "    with open('data/stockData_'+str(i), 'rb') as p:\n",
    "        df1 = pickle.load(p)\n",
    "        df = df.concat([df, df1])\n",
    "        p.close()\n",
    "\n",
    "print(df.head())\n",
    "df = df.reset_index(drop=False).set_index(['PERMNO','date'])\n",
    "all_permno = np.unique([x[0] for x in df.index.values])[:1350]\n",
    "all_dates = np.unique([x[1] for x in df.index.values])"
   ]
  },
  {
   "cell_type": "markdown",
   "metadata": {},
   "source": [
    "## Set global hyperparameters and load predicted signals from previous optimal model"
   ]
  },
  {
   "cell_type": "code",
   "execution_count": 4,
   "metadata": {},
   "outputs": [],
   "source": [
    "image_size = 16 # Compress information for every 4 days;\n",
    "data_len = int(252/4)+1\n",
    "retrain_freq = 5\n",
    "nDays = len(all_dates)\n",
    "\n",
    "with open('data/predictions', 'rb') as p:\n",
    "    signals = pickle.load(p)\n",
    "    p.close()\n",
    "\n",
    "signals = pd.DataFrame(signals)\n",
    "signals.columns = [['long', 'hold', 'short']]"
   ]
  },
  {
   "cell_type": "markdown",
   "metadata": {},
   "source": [
    "## Align dates of portfolio rebalance and stock PERMNO"
   ]
  },
  {
   "cell_type": "code",
   "execution_count": 5,
   "metadata": {},
   "outputs": [],
   "source": [
    "rebalance_dates = [all_dates[i] for i in range(data_len, nDays, retrain_freq)]\n",
    "rebalance_dates = rebalance_dates[int(len(rebalance_dates)*2/3)+1:]\n",
    "n = len(rebalance_dates)\n",
    "signals['PERMNO'] = np.array([[x]*n for x in all_permno]).ravel()\n",
    "signals['rebalance_dates'] = rebalance_dates*1350"
   ]
  },
  {
   "cell_type": "markdown",
   "metadata": {},
   "source": [
    "## Get price of stock at each rebalance date"
   ]
  },
  {
   "cell_type": "code",
   "execution_count": 6,
   "metadata": {},
   "outputs": [],
   "source": [
    "df1 = df.reset_index(level=0, drop=False).reset_index(drop=False)\n",
    "iv = df1.date\n",
    "prc_dict = {x: df1[ne.evaluate('iv==x')][['PRC', 'PERMNO']] for x in rebalance_dates}"
   ]
  },
  {
   "cell_type": "code",
   "execution_count": 7,
   "metadata": {},
   "outputs": [],
   "source": [
    "iv = signals.rebalance_dates\n",
    "signal_dict = {x: signals[ne.evaluate('iv==x')][['long', 'hold', 'short', 'PERMNO']] for x in rebalance_dates}"
   ]
  },
  {
   "cell_type": "markdown",
   "metadata": {},
   "source": [
    "## Form portfolio for each rebalance date\n",
    "Only incorporate stocks that we predict to go long with highest probability (top 20 stocks)"
   ]
  },
  {
   "cell_type": "code",
   "execution_count": 8,
   "metadata": {},
   "outputs": [],
   "source": [
    "long_portfolio_dict, short_portfolio_dict = {}, {}\n",
    "for dd in rebalance_dates:\n",
    "    today_long = signal_dict[dd][signal_dict[dd][['long', 'hold', 'short']].idxmax(axis=1)==('long',)].sort_values(by=[('long',)], ascending=False)\n",
    "    \n",
    "    today_long_portfolio = today_long['PERMNO'][:15].values.ravel()\n",
    "\n",
    "    long_portfolio_dict[dd] = today_long_portfolio\n"
   ]
  },
  {
   "cell_type": "markdown",
   "metadata": {},
   "source": [
    "Get the date to open and close the selected stocks in the portfolio"
   ]
  },
  {
   "cell_type": "code",
   "execution_count": 9,
   "metadata": {},
   "outputs": [],
   "source": [
    "def get_next_date(today, all_dates=rebalance_dates):\n",
    "    today_idx = np.where(np.array(all_dates)==today)\n",
    "    if len(today_idx)==0:\n",
    "        return\n",
    "    if today_idx[0][0] == len(all_dates)-1:\n",
    "        return\n",
    "    return all_dates[today_idx[0][0]+1]\n",
    "\n",
    "portfolio_return = []\n",
    "\n",
    "for date in rebalance_dates[:-1]:\n",
    "    long_portfolio = long_portfolio_dict[date]\n",
    "    \n",
    "    open_day = prc_dict[date][prc_dict[date].PERMNO.isin(long_portfolio)]\n",
    "    close_day = prc_dict[get_next_date(date)][prc_dict[get_next_date(date)].PERMNO.isin(long_portfolio)]\n",
    "    \n",
    "    portfolio_return.append((np.average((close_day.PRC.values-open_day.PRC.values)/open_day.PRC.values)))\n",
    "\n",
    "portfolio_NAV = np.cumprod(np.array(portfolio_return)+1)"
   ]
  },
  {
   "cell_type": "markdown",
   "metadata": {},
   "source": [
    "Get benchmark sp500 returns"
   ]
  },
  {
   "cell_type": "code",
   "execution_count": 10,
   "metadata": {},
   "outputs": [],
   "source": [
    "sp500 = pd.read_csv('data/^GSPC.csv', index_col=False)[['Date', 'Adj Close']]\n",
    "sp500.Date = sp500.Date.apply(partial(re.sub, '-', '')).apply(int)\n",
    "sp500 = sp500[sp500.Date.isin(rebalance_dates)]\n",
    "sp500_NAV = np.cumprod(1+((sp500['Adj Close'].iloc[1:].values-sp500['Adj Close'].iloc[0:-1].values)/sp500['Adj Close'].iloc[0:-1].values))\n"
   ]
  },
  {
   "cell_type": "markdown",
   "metadata": {},
   "source": [
    "## Comparison of the returns"
   ]
  },
  {
   "cell_type": "code",
   "execution_count": 15,
   "metadata": {},
   "outputs": [
    {
     "data": {
      "image/png": "[encoded data removed]",
      "text/plain": [
       "<Figure size 432x288 with 1 Axes>"
      ]
     },
     "metadata": {
      "needs_background": "light"
     },
     "output_type": "display_data"
    }
   ],
   "source": [
    "plt.plot(figsize=(30, 10))\n",
    "plt.plot(sp500_NAV)\n",
    "plt.plot(portfolio_NAV)\n",
    "plt.legend(['SP 500', 'Long-only deep portfolio'])\n",
    "plt.title('Long-only Deep Portfolio Strategy: 10/2010-12/2017')\n",
    "plt.show()\n"
   ]
  },
  {
   "cell_type": "code",
   "execution_count": null,
   "metadata": {},
   "outputs": [],
   "source": []
  }
 ],
 "metadata": {
  "kernelspec": {
   "display_name": "Python 3",
   "language": "python",
   "name": "python3"
  },
  "language_info": {
   "codemirror_mode": {
    "name": "ipython",
    "version": 3
   },
   "file_extension": ".py",
   "mimetype": "text/x-python",
   "name": "python",
   "nbconvert_exporter": "python",
   "pygments_lexer": "ipython3",
   "version": "3.6.7"
  }
 },
 "nbformat": 4,
 "nbformat_minor": 2
}
