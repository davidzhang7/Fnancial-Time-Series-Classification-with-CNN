{
 "cells": [
  {
   "cell_type": "code",
   "execution_count": 2,
   "metadata": {},
   "outputs": [],
   "source": [
    "from hyperparams import *\n",
    "from CNNModels import *\n",
    "from data_processing_func import *\n",
    "import numpy as np\n",
    "import pandas as pd\n",
    "from sklearn.metrics import confusion_matrix\n",
    "import random"
   ]
  },
  {
   "cell_type": "markdown",
   "metadata": {},
   "source": [
    "## Get basic information regarding data set"
   ]
  },
  {
   "cell_type": "code",
   "execution_count": 2,
   "metadata": {
    "scrolled": true
   },
   "outputs": [
    {
     "name": "stdout",
     "output_type": "stream",
     "text": [
      "(739800, 16, 16, 4) (247050, 16, 16, 4) (491400, 16, 16, 4) (739800, 3) (247050, 3) (491400, 3)\n"
     ]
    }
   ],
   "source": [
    "X_train, X_val, X_test, Y_train, Y_val, Y_test = getTrainingDataFromPath()\n",
    "print(X_train.shape, X_val.shape, X_test.shape, Y_train.shape, Y_val.shape, Y_test.shape)"
   ]
  },
  {
   "cell_type": "code",
   "execution_count": 3,
   "metadata": {},
   "outputs": [
    {
     "name": "stdout",
     "output_type": "stream",
     "text": [
      "[0.37575966 0.27968911 0.34455123]\n",
      "[0.39143088 0.22811577 0.38045335]\n",
      "[0.36472324 0.3220289  0.31324786]\n"
     ]
    }
   ],
   "source": [
    "## Get distribution of samples\n",
    "training_distribution = np.sum(Y_train,axis=0)/len(Y_train)\n",
    "validation_distribution = np.sum(Y_val,axis=0)/len(Y_val)\n",
    "test_distribution = np.sum(Y_test,axis=0)/len(Y_test)\n",
    "\n",
    "print(training_distribution)\n",
    "print(validation_distribution)\n",
    "print(test_distribution)"
   ]
  },
  {
   "cell_type": "markdown",
   "metadata": {},
   "source": [
    "## AlexNet VS GoogLeNet\n",
    "### Training AlexNet"
   ]
  },
  {
   "cell_type": "code",
   "execution_count": 20,
   "metadata": {
    "scrolled": true
   },
   "outputs": [
    {
     "name": "stdout",
     "output_type": "stream",
     "text": [
      "Training time:  39.85 Epoch: 001/050 ======== Loss: 1.0529 Accuracy: 0.4481 val_Loss: 1.0398 val_acc: 0.4661 \n",
      "Training time:  38.71 Epoch: 002/050 ======== Loss: 1.0505 Accuracy: 0.4548 val_Loss: 1.0332 val_acc: 0.4804 \n",
      "Training time:  39.03 Epoch: 003/050 ======== Loss: 1.0475 Accuracy: 0.4564 val_Loss: 1.0346 val_acc: 0.4737 \n",
      "Training time:  39.04 Epoch: 004/050 ======== Loss: 1.0459 Accuracy: 0.4578 val_Loss: 1.0355 val_acc: 0.4753 \n",
      "Training time:  38.66 Epoch: 005/050 ======== Loss: 1.0442 Accuracy: 0.4598 val_Loss: 1.0375 val_acc: 0.4723 \n",
      "Training time:  39.5 Epoch: 006/050 ======== Loss: 1.0450 Accuracy: 0.4614 val_Loss: 1.0316 val_acc: 0.4802 \n",
      "Training time:  38.75 Epoch: 007/050 ======== Loss: 1.0457 Accuracy: 0.4515 val_Loss: 1.0443 val_acc: 0.4524 \n",
      "Training time:  39.36 Epoch: 008/050 ======== Loss: 1.0412 Accuracy: 0.4627 val_Loss: 1.0362 val_acc: 0.4712 \n",
      "Training time:  39.07 Epoch: 009/050 ======== Loss: 1.0415 Accuracy: 0.4630 val_Loss: 1.0364 val_acc: 0.4723 \n",
      "Training time:  39.18 Epoch: 010/050 ======== Loss: 1.0416 Accuracy: 0.4621 val_Loss: 1.0389 val_acc: 0.4680 \n",
      "Training time:  39.02 Epoch: 011/050 ======== Loss: 1.0401 Accuracy: 0.4614 val_Loss: 1.0395 val_acc: 0.4636 \n",
      "Training time:  38.72 Epoch: 012/050 ======== Loss: 1.0381 Accuracy: 0.4667 val_Loss: 1.0351 val_acc: 0.4758 \n",
      "Training time:  39.23 Epoch: 013/050 ======== Loss: 1.0405 Accuracy: 0.4649 val_Loss: 1.0335 val_acc: 0.4765 \n",
      "Training time:  38.62 Epoch: 014/050 ======== Loss: 1.0379 Accuracy: 0.4655 val_Loss: 1.0384 val_acc: 0.4682 \n",
      "Training time:  39.23 Epoch: 015/050 ======== Loss: 1.0381 Accuracy: 0.4640 val_Loss: 1.0430 val_acc: 0.4601 \n",
      "Training time:  39.06 Epoch: 016/050 ======== Loss: 1.0387 Accuracy: 0.4660 val_Loss: 1.0362 val_acc: 0.4726 \n",
      "Training time:  38.5 Epoch: 017/050 ======== Loss: 1.0401 Accuracy: 0.4632 val_Loss: 1.0402 val_acc: 0.4659 \n",
      "Training time:  39.11 Epoch: 018/050 ======== Loss: 1.0369 Accuracy: 0.4669 val_Loss: 1.0381 val_acc: 0.4712 \n",
      "Training time:  38.57 Epoch: 019/050 ======== Loss: 1.0380 Accuracy: 0.4683 val_Loss: 1.0330 val_acc: 0.4791 \n",
      "Training time:  39.21 Epoch: 020/050 ======== Loss: 1.0371 Accuracy: 0.4672 val_Loss: 1.0402 val_acc: 0.4668 \n",
      "Training time:  38.81 Epoch: 021/050 ======== Loss: 1.0369 Accuracy: 0.4687 val_Loss: 1.0387 val_acc: 0.4716 \n",
      "Training time:  39.06 Epoch: 022/050 ======== Loss: 1.0349 Accuracy: 0.4686 val_Loss: 1.0403 val_acc: 0.4646 \n",
      "Training time:  38.89 Epoch: 023/050 ======== Loss: 1.0363 Accuracy: 0.4669 val_Loss: 1.0394 val_acc: 0.4650 \n",
      "Training time:  38.77 Epoch: 024/050 ======== Loss: 1.0343 Accuracy: 0.4705 val_Loss: 1.0381 val_acc: 0.4721 \n",
      "Training time:  39.13 Epoch: 025/050 ======== Loss: 1.0367 Accuracy: 0.4673 val_Loss: 1.0410 val_acc: 0.4667 \n",
      "Training time:  38.73 Epoch: 026/050 ======== Loss: 1.0345 Accuracy: 0.4673 val_Loss: 1.0438 val_acc: 0.4594 \n",
      "Training time:  39.13 Epoch: 027/050 ======== Loss: 1.0365 Accuracy: 0.4683 val_Loss: 1.0415 val_acc: 0.4664 \n",
      "Training time:  38.95 Epoch: 028/050 ======== Loss: 1.0349 Accuracy: 0.4698 val_Loss: 1.0404 val_acc: 0.4702 \n",
      "Training time:  38.68 Epoch: 029/050 ======== Loss: 1.0352 Accuracy: 0.4660 val_Loss: 1.0454 val_acc: 0.4542 \n",
      "Training time:  39.32 Epoch: 030/050 ======== Loss: 1.0371 Accuracy: 0.4645 val_Loss: 1.0462 val_acc: 0.4558 \n",
      "Training time:  38.71 Epoch: 031/050 ======== Loss: 1.0342 Accuracy: 0.4691 val_Loss: 1.0401 val_acc: 0.4666 \n",
      "Training time:  39.14 Epoch: 032/050 ======== Loss: 1.0340 Accuracy: 0.4708 val_Loss: 1.0398 val_acc: 0.4679 \n",
      "Training time:  39.02 Epoch: 033/050 ======== Loss: 1.0369 Accuracy: 0.4661 val_Loss: 1.0440 val_acc: 0.4642 \n",
      "Training time:  39.01 Epoch: 034/050 ======== Loss: 1.0362 Accuracy: 0.4686 val_Loss: 1.0414 val_acc: 0.4681 \n",
      "Training time:  38.99 Epoch: 035/050 ======== Loss: 1.0338 Accuracy: 0.4709 val_Loss: 1.0409 val_acc: 0.4686 \n",
      "Training time:  38.83 Epoch: 036/050 ======== Loss: 1.0332 Accuracy: 0.4713 val_Loss: 1.0422 val_acc: 0.4657 \n",
      "Training time:  39.26 Epoch: 037/050 ======== Loss: 1.0341 Accuracy: 0.4676 val_Loss: 1.0436 val_acc: 0.4570 \n",
      "Training time:  38.71 Epoch: 038/050 ======== Loss: 1.0338 Accuracy: 0.4718 val_Loss: 1.0361 val_acc: 0.4749 \n",
      "Training time:  39.22 Epoch: 039/050 ======== Loss: 1.0354 Accuracy: 0.4684 val_Loss: 1.0415 val_acc: 0.4634 \n",
      "Training time:  38.98 Epoch: 040/050 ======== Loss: 1.0339 Accuracy: 0.4680 val_Loss: 1.0434 val_acc: 0.4588 \n",
      "Training time:  38.63 Epoch: 041/050 ======== Loss: 1.0341 Accuracy: 0.4665 val_Loss: 1.0448 val_acc: 0.4559 \n",
      "Training time:  39.31 Epoch: 042/050 ======== Loss: 1.0322 Accuracy: 0.4721 val_Loss: 1.0405 val_acc: 0.4663 \n",
      "Training time:  38.64 Epoch: 043/050 ======== Loss: 1.0346 Accuracy: 0.4679 val_Loss: 1.0448 val_acc: 0.4610 \n",
      "Training time:  39.26 Epoch: 044/050 ======== Loss: 1.0328 Accuracy: 0.4685 val_Loss: 1.0459 val_acc: 0.4563 \n",
      "Training time:  38.97 Epoch: 045/050 ======== Loss: 1.0336 Accuracy: 0.4687 val_Loss: 1.0463 val_acc: 0.4561 \n",
      "Training time:  39.02 Epoch: 046/050 ======== Loss: 1.0343 Accuracy: 0.4688 val_Loss: 1.0437 val_acc: 0.4617 \n",
      "Training time:  38.95 Epoch: 047/050 ======== Loss: 1.0338 Accuracy: 0.4703 val_Loss: 1.0407 val_acc: 0.4667 \n",
      "Training time:  38.76 Epoch: 048/050 ======== Loss: 1.0326 Accuracy: 0.4709 val_Loss: 1.0420 val_acc: 0.4653 \n",
      "Training time:  39.15 Epoch: 049/050 ======== Loss: 1.0335 Accuracy: 0.4688 val_Loss: 1.0451 val_acc: 0.4575 \n",
      "Training time:  38.7 Epoch: 050/050 ======== Loss: 1.0327 Accuracy: 0.4680 val_Loss: 1.0482 val_acc: 0.4521 \n"
     ]
    }
   ],
   "source": [
    "AN_pred, AN_training_loss, AN_val_loss = train_predict(X=X_train, Y=Y_train, batch_size=128, valX=X_val, valY=Y_val,\n",
    "                                                       model_ckpt_path='model/ckpt1.meta', isBayesian=True,\n",
    "                                                       epochs=50, model=Condensed_AlexNet, dropout=0.15)"
   ]
  },
  {
   "cell_type": "markdown",
   "metadata": {},
   "source": [
    "### Training GoogLeNet"
   ]
  },
  {
   "cell_type": "code",
   "execution_count": 32,
   "metadata": {
    "scrolled": true
   },
   "outputs": [
    {
     "name": "stdout",
     "output_type": "stream",
     "text": [
      "Training time:  108.81 Epoch: 001/050 ======== Loss: 1.0526 Accuracy: 0.4530 val_Loss: 1.0332 val_acc: 0.4831 \n",
      "Training time:  106.89 Epoch: 002/050 ======== Loss: 1.0480 Accuracy: 0.4564 val_Loss: 1.0345 val_acc: 0.4746 \n",
      "Training time:  106.23 Epoch: 003/050 ======== Loss: 1.0504 Accuracy: 0.4513 val_Loss: 1.0430 val_acc: 0.4631 \n",
      "Training time:  106.1 Epoch: 004/050 ======== Loss: 1.0466 Accuracy: 0.4576 val_Loss: 1.0344 val_acc: 0.4740 \n",
      "Training time:  106.15 Epoch: 005/050 ======== Loss: 1.0461 Accuracy: 0.4559 val_Loss: 1.0358 val_acc: 0.4680 \n",
      "Training time:  106.06 Epoch: 006/050 ======== Loss: 1.0449 Accuracy: 0.4590 val_Loss: 1.0333 val_acc: 0.4738 \n",
      "Training time:  106.21 Epoch: 007/050 ======== Loss: 1.0446 Accuracy: 0.4613 val_Loss: 1.0261 val_acc: 0.4849 \n",
      "Training time:  105.85 Epoch: 008/050 ======== Loss: 1.0454 Accuracy: 0.4603 val_Loss: 1.0310 val_acc: 0.4790 \n",
      "Training time:  106.33 Epoch: 009/050 ======== Loss: 1.0448 Accuracy: 0.4576 val_Loss: 1.0388 val_acc: 0.4664 \n",
      "Training time:  106.11 Epoch: 010/050 ======== Loss: 1.0438 Accuracy: 0.4600 val_Loss: 1.0329 val_acc: 0.4720 \n",
      "Training time:  106.17 Epoch: 011/050 ======== Loss: 1.0432 Accuracy: 0.4631 val_Loss: 1.0295 val_acc: 0.4804 \n",
      "Training time:  105.93 Epoch: 012/050 ======== Loss: 1.0421 Accuracy: 0.4631 val_Loss: 1.0292 val_acc: 0.4801 \n",
      "Training time:  106.25 Epoch: 013/050 ======== Loss: 1.0422 Accuracy: 0.4617 val_Loss: 1.0338 val_acc: 0.4721 \n",
      "Training time:  106.17 Epoch: 014/050 ======== Loss: 1.0413 Accuracy: 0.4645 val_Loss: 1.0292 val_acc: 0.4797 \n",
      "Training time:  105.98 Epoch: 015/050 ======== Loss: 1.0425 Accuracy: 0.4606 val_Loss: 1.0354 val_acc: 0.4691 \n",
      "Training time:  106.31 Epoch: 016/050 ======== Loss: 1.0428 Accuracy: 0.4650 val_Loss: 1.0292 val_acc: 0.4807 \n",
      "Training time:  106.28 Epoch: 017/050 ======== Loss: 1.0412 Accuracy: 0.4640 val_Loss: 1.0295 val_acc: 0.4794 \n",
      "Training time:  106.2 Epoch: 018/050 ======== Loss: 1.0417 Accuracy: 0.4624 val_Loss: 1.0351 val_acc: 0.4696 \n",
      "Training time:  106.22 Epoch: 019/050 ======== Loss: 1.0422 Accuracy: 0.4620 val_Loss: 1.0343 val_acc: 0.4754 \n",
      "Training time:  106.15 Epoch: 020/050 ======== Loss: 1.0402 Accuracy: 0.4649 val_Loss: 1.0302 val_acc: 0.4794 \n",
      "Training time:  106.24 Epoch: 021/050 ======== Loss: 1.0407 Accuracy: 0.4643 val_Loss: 1.0336 val_acc: 0.4751 \n",
      "Training time:  106.13 Epoch: 022/050 ======== Loss: 1.0403 Accuracy: 0.4643 val_Loss: 1.0318 val_acc: 0.4752 \n",
      "Training time:  105.92 Epoch: 023/050 ======== Loss: 1.0407 Accuracy: 0.4645 val_Loss: 1.0320 val_acc: 0.4790 \n",
      "Training time:  105.68 Epoch: 024/050 ======== Loss: 1.0419 Accuracy: 0.4629 val_Loss: 1.0360 val_acc: 0.4725 \n",
      "Training time:  105.8 Epoch: 025/050 ======== Loss: 1.0407 Accuracy: 0.4630 val_Loss: 1.0334 val_acc: 0.4723 \n",
      "Training time:  105.61 Epoch: 026/050 ======== Loss: 1.0413 Accuracy: 0.4634 val_Loss: 1.0330 val_acc: 0.4748 \n",
      "Training time:  105.57 Epoch: 027/050 ======== Loss: 1.0431 Accuracy: 0.4590 val_Loss: 1.0390 val_acc: 0.4645 \n",
      "Training time:  105.34 Epoch: 028/050 ======== Loss: 1.0395 Accuracy: 0.4649 val_Loss: 1.0331 val_acc: 0.4733 \n",
      "Training time:  105.57 Epoch: 029/050 ======== Loss: 1.0406 Accuracy: 0.4639 val_Loss: 1.0342 val_acc: 0.4708 \n",
      "Training time:  105.76 Epoch: 030/050 ======== Loss: 1.0413 Accuracy: 0.4618 val_Loss: 1.0344 val_acc: 0.4705 \n",
      "Training time:  105.24 Epoch: 031/050 ======== Loss: 1.0404 Accuracy: 0.4615 val_Loss: 1.0357 val_acc: 0.4678 \n",
      "Training time:  105.79 Epoch: 032/050 ======== Loss: 1.0396 Accuracy: 0.4650 val_Loss: 1.0300 val_acc: 0.4765 \n",
      "Training time:  105.7 Epoch: 033/050 ======== Loss: 1.0388 Accuracy: 0.4659 val_Loss: 1.0299 val_acc: 0.4759 \n",
      "Training time:  105.64 Epoch: 034/050 ======== Loss: 1.0394 Accuracy: 0.4655 val_Loss: 1.0351 val_acc: 0.4737 \n",
      "Training time:  105.69 Epoch: 035/050 ======== Loss: 1.0408 Accuracy: 0.4621 val_Loss: 1.0373 val_acc: 0.4666 \n",
      "Training time:  105.63 Epoch: 036/050 ======== Loss: 1.0403 Accuracy: 0.4661 val_Loss: 1.0314 val_acc: 0.4781 \n",
      "Training time:  105.31 Epoch: 037/050 ======== Loss: 1.0389 Accuracy: 0.4641 val_Loss: 1.0364 val_acc: 0.4678 \n",
      "Training time:  105.63 Epoch: 038/050 ======== Loss: 1.0406 Accuracy: 0.4630 val_Loss: 1.0379 val_acc: 0.4681 \n",
      "Training time:  105.64 Epoch: 039/050 ======== Loss: 1.0404 Accuracy: 0.4634 val_Loss: 1.0356 val_acc: 0.4724 \n",
      "Training time:  105.4 Epoch: 040/050 ======== Loss: 1.0386 Accuracy: 0.4654 val_Loss: 1.0340 val_acc: 0.4716 \n",
      "Training time:  105.56 Epoch: 041/050 ======== Loss: 1.0412 Accuracy: 0.4582 val_Loss: 1.0423 val_acc: 0.4558 \n",
      "Training time:  105.71 Epoch: 042/050 ======== Loss: 1.0390 Accuracy: 0.4659 val_Loss: 1.0340 val_acc: 0.4730 \n",
      "Training time:  105.53 Epoch: 043/050 ======== Loss: 1.0387 Accuracy: 0.4663 val_Loss: 1.0333 val_acc: 0.4730 \n",
      "Training time:  105.61 Epoch: 044/050 ======== Loss: 1.0388 Accuracy: 0.4630 val_Loss: 1.0375 val_acc: 0.4645 \n",
      "Training time:  105.62 Epoch: 045/050 ======== Loss: 1.0396 Accuracy: 0.4662 val_Loss: 1.0304 val_acc: 0.4804 \n",
      "Training time:  105.64 Epoch: 046/050 ======== Loss: 1.0386 Accuracy: 0.4647 val_Loss: 1.0359 val_acc: 0.4695 \n",
      "Training time:  105.69 Epoch: 047/050 ======== Loss: 1.0392 Accuracy: 0.4658 val_Loss: 1.0340 val_acc: 0.4744 \n",
      "Training time:  105.6 Epoch: 048/050 ======== Loss: 1.0392 Accuracy: 0.4670 val_Loss: 1.0313 val_acc: 0.4778 \n",
      "Training time:  105.6 Epoch: 049/050 ======== Loss: 1.0389 Accuracy: 0.4657 val_Loss: 1.0373 val_acc: 0.4699 \n",
      "Training time:  105.6 Epoch: 050/050 ======== Loss: 1.0389 Accuracy: 0.4657 val_Loss: 1.0324 val_acc: 0.4736 \n"
     ]
    }
   ],
   "source": [
    "GN_pred, GN_training_loss, GN_val_loss = train_predict(X=X_train, Y=Y_train, batch_size=128, valX=X_val, valY=Y_val, \n",
    "                                                       model_ckpt_path='model/ckpt2.meta', epochs=50, model=Condensed_GoogleNet)"
   ]
  },
  {
   "cell_type": "markdown",
   "metadata": {},
   "source": [
    "### Comparison of GoogLeNet and AlexNet"
   ]
  },
  {
   "cell_type": "code",
   "execution_count": 34,
   "metadata": {},
   "outputs": [
    {
     "data": {
      "text/plain": [
       "(1.02, 1.06)"
      ]
     },
     "execution_count": 34,
     "metadata": {},
     "output_type": "execute_result"
    },
    {
     "data": {
      "image/png": "[encoded data removed]",
      "text/plain": [
       "<Figure size 1152x432 with 2 Axes>"
      ]
     },
     "metadata": {},
     "output_type": "display_data"
    }
   ],
   "source": [
    "import matplotlib.pyplot as plt\n",
    "\n",
    "epochs=50\n",
    "plt.figure(figsize=(16, 6))\n",
    "plt.subplot(121)\n",
    "plt.plot(range(1, epochs+1), GN_training_loss, 'r.-')\n",
    "plt.plot(range(1, epochs+1), AN_training_loss, 'b.-')\n",
    "plt.legend(['GoogLeNet Training Loss', 'AlexNet Training Loss'])\n",
    "plt.title('AlexNet VS GoogLeNet: Training Loss')\n",
    "\n",
    "plt.subplot(122)\n",
    "plt.plot(range(1, epochs+1), GN_val_loss, 'r-.')\n",
    "plt.plot(range(1, epochs+1), AN_val_loss, 'b-.')\n",
    "plt.legend(['GoogLeNet Validation Loss', 'AlexNet Validation Loss'])\n",
    "plt.title('AlexNet VS GoogLeNet: Validation Loss')\n",
    "plt.ylim((1.02, 1.06))"
   ]
  },
  {
   "cell_type": "markdown",
   "metadata": {},
   "source": [
    "## Bayesian Neural Networks\n",
    "A simulation anaysis illustrating how to acquire prediction from bayesian neural network, and a simple illustration of the resemblence of prediction distribution from:\n",
    "\n",
    "    a) 10 ensembled AlexNet\n",
    "    \n",
    "    b) AlexNet sampled from last 10 epochs of one training\n",
    "    \n",
    "Comparison done by computing mean and variance of training losses. A 95 percent confidence interval is also acquired."
   ]
  },
  {
   "cell_type": "markdown",
   "metadata": {},
   "source": [
    "### Ensemble 10 AlexNet"
   ]
  },
  {
   "cell_type": "code",
   "execution_count": 30,
   "metadata": {
    "scrolled": true
   },
   "outputs": [
    {
     "name": "stdout",
     "output_type": "stream",
     "text": [
      "95 percent CI for ensemble training loss: 1.0352580719294642 <= 1.036915627868474 <= 1.0385731838074836\n"
     ]
    }
   ],
   "source": [
    "from IPython.display import clear_output\n",
    "ensemble_tl, ensemble_val = [], []\n",
    "for i in range(10):\n",
    "    AN_pred, AN_training_loss, AN_val_loss = train_predict(X=X_train, Y=Y_train, batch_size=128, valX=X_val, valY=Y_val, \n",
    "                                                           isBayesian=False, model_ckpt_path='model/ckpt3.meta', \n",
    "                                                           epochs=50, model=Condensed_AlexNet, dropout=0.15)\n",
    "    ensemble_tl.append(AN_training_loss[-1])\n",
    "    clear_output()\n",
    "    \n",
    "# Compute 95% CI for training losses\n",
    "mean_tl, std_tl = np.mean(ensemble_tl), np.std(ensemble_tl)\n",
    "\n",
    "tl_CI_l = mean_tl - 1.65*std_tl/np.sqrt(10)\n",
    "tl_CI_u = mean_tl + 1.65*std_tl/np.sqrt(10)\n",
    "\n",
    "print('95 percent CI for ensemble training loss:', tl_CI_l, '<=', mean_tl, '<=', tl_CI_u)"
   ]
  },
  {
   "cell_type": "markdown",
   "metadata": {},
   "source": [
    "### Bayesian AlexNet\n",
    "Assume staionarity is reached at the final 10 epochs (we thus only sample from last 10 epochs)"
   ]
  },
  {
   "cell_type": "code",
   "execution_count": 31,
   "metadata": {},
   "outputs": [
    {
     "name": "stdout",
     "output_type": "stream",
     "text": [
      "95 percent CI for bayesian alexnet training loss: 1.0330139461142003 <= 1.0334178669169067 <= 1.0338217877196132\n"
     ]
    }
   ],
   "source": [
    "# Compute 95% CI for training losses\n",
    "bayes_mean_tl, bayes_std_tl = np.mean(AN_training_loss[-10:]), np.std(AN_training_loss[-10:])\n",
    "\n",
    "bayes_tl_CI_l = bayes_mean_tl - 1.65*bayes_std_tl/np.sqrt(10)\n",
    "bayes_tl_CI_u = bayes_mean_tl + 1.65*bayes_std_tl/np.sqrt(10)\n",
    "\n",
    "print('95 percent CI for bayesian alexnet training loss:', bayes_tl_CI_l, '<=', bayes_mean_tl, '<=', bayes_tl_CI_u)"
   ]
  },
  {
   "cell_type": "markdown",
   "metadata": {},
   "source": [
    "## Implemenet Cost Sensitive Loss Function\n",
    "Let us implement cost sensitive with penalty larger at (1,3)-th entry and (3,1)-th entry, i.e. penalize more for misclassifying a stock we should long to a one we should short, or vice versa. This makes sense if we are dong a long/short strategy. Finally, we see that, given a predicted signal is 'long', we have much more greatly optimized the odds of a signal is actually long to that it is actually short! This inspires a long only deep portfolio strategy."
   ]
  },
  {
   "cell_type": "code",
   "execution_count": 47,
   "metadata": {
    "scrolled": true
   },
   "outputs": [
    {
     "name": "stdout",
     "output_type": "stream",
     "text": [
      "Training time:  108.71 Epoch: 001/050 ======== Loss: 1.0524 Accuracy: 0.4458 val_Loss: 1.0413 val_acc: 0.4574 \n",
      "Training time:  106.67 Epoch: 002/050 ======== Loss: 1.0492 Accuracy: 0.4543 val_Loss: 1.0350 val_acc: 0.4717 \n",
      "Training time:  106.65 Epoch: 003/050 ======== Loss: 1.0475 Accuracy: 0.4575 val_Loss: 1.0294 val_acc: 0.4781 \n",
      "Training time:  107.04 Epoch: 004/050 ======== Loss: 1.0469 Accuracy: 0.4564 val_Loss: 1.0346 val_acc: 0.4703 \n",
      "Training time:  107.14 Epoch: 005/050 ======== Loss: 1.0460 Accuracy: 0.4593 val_Loss: 1.0315 val_acc: 0.4784 \n",
      "Training time:  106.88 Epoch: 006/050 ======== Loss: 1.0479 Accuracy: 0.4482 val_Loss: 1.0397 val_acc: 0.4545 \n",
      "Training time:  106.64 Epoch: 007/050 ======== Loss: 1.0468 Accuracy: 0.4593 val_Loss: 1.0329 val_acc: 0.4808 \n",
      "Training time:  106.97 Epoch: 008/050 ======== Loss: 1.0463 Accuracy: 0.4597 val_Loss: 1.0287 val_acc: 0.4812 \n",
      "Training time:  106.71 Epoch: 009/050 ======== Loss: 1.0441 Accuracy: 0.4607 val_Loss: 1.0312 val_acc: 0.4739 \n",
      "Training time:  107.12 Epoch: 010/050 ======== Loss: 1.0442 Accuracy: 0.4597 val_Loss: 1.0334 val_acc: 0.4714 \n",
      "Training time:  107.12 Epoch: 011/050 ======== Loss: 1.0450 Accuracy: 0.4547 val_Loss: 1.0368 val_acc: 0.4626 \n",
      "Training time:  106.76 Epoch: 012/050 ======== Loss: 1.0488 Accuracy: 0.4445 val_Loss: 1.0431 val_acc: 0.4487 \n",
      "Training time:  107.12 Epoch: 013/050 ======== Loss: 1.0449 Accuracy: 0.4619 val_Loss: 1.0273 val_acc: 0.4837 \n",
      "Training time:  106.82 Epoch: 014/050 ======== Loss: 1.0431 Accuracy: 0.4621 val_Loss: 1.0293 val_acc: 0.4770 \n",
      "Training time:  107.15 Epoch: 015/050 ======== Loss: 1.0434 Accuracy: 0.4578 val_Loss: 1.0344 val_acc: 0.4675 \n",
      "Training time:  106.89 Epoch: 016/050 ======== Loss: 1.0445 Accuracy: 0.4612 val_Loss: 1.0287 val_acc: 0.4826 \n",
      "Training time:  107.19 Epoch: 017/050 ======== Loss: 1.0423 Accuracy: 0.4601 val_Loss: 1.0345 val_acc: 0.4691 \n",
      "Training time:  106.79 Epoch: 018/050 ======== Loss: 1.0429 Accuracy: 0.4631 val_Loss: 1.0317 val_acc: 0.4757 \n",
      "Training time:  107.07 Epoch: 019/050 ======== Loss: 1.0433 Accuracy: 0.4558 val_Loss: 1.0387 val_acc: 0.4589 \n",
      "Training time:  106.81 Epoch: 020/050 ======== Loss: 1.0424 Accuracy: 0.4632 val_Loss: 1.0289 val_acc: 0.4809 \n",
      "Training time:  107.12 Epoch: 021/050 ======== Loss: 1.0419 Accuracy: 0.4599 val_Loss: 1.0360 val_acc: 0.4678 \n",
      "Training time:  107.17 Epoch: 022/050 ======== Loss: 1.0429 Accuracy: 0.4600 val_Loss: 1.0340 val_acc: 0.4674 \n",
      "Training time:  106.75 Epoch: 023/050 ======== Loss: 1.0413 Accuracy: 0.4637 val_Loss: 1.0303 val_acc: 0.4761 \n",
      "Training time:  106.81 Epoch: 024/050 ======== Loss: 1.0414 Accuracy: 0.4621 val_Loss: 1.0331 val_acc: 0.4721 \n",
      "Training time:  107.15 Epoch: 025/050 ======== Loss: 1.0412 Accuracy: 0.4638 val_Loss: 1.0312 val_acc: 0.4760 \n",
      "Training time:  106.77 Epoch: 026/050 ======== Loss: 1.0420 Accuracy: 0.4620 val_Loss: 1.0389 val_acc: 0.4673 \n",
      "Training time:  107.13 Epoch: 027/050 ======== Loss: 1.0411 Accuracy: 0.4638 val_Loss: 1.0316 val_acc: 0.4760 \n",
      "Training time:  107.16 Epoch: 028/050 ======== Loss: 1.0424 Accuracy: 0.4641 val_Loss: 1.0307 val_acc: 0.4786 \n",
      "Training time:  106.69 Epoch: 029/050 ======== Loss: 1.0401 Accuracy: 0.4601 val_Loss: 1.0362 val_acc: 0.4643 \n",
      "Training time:  107.13 Epoch: 030/050 ======== Loss: 1.0404 Accuracy: 0.4643 val_Loss: 1.0325 val_acc: 0.4728 \n",
      "Training time:  106.67 Epoch: 031/050 ======== Loss: 1.0410 Accuracy: 0.4605 val_Loss: 1.0377 val_acc: 0.4625 \n",
      "Training time:  107.13 Epoch: 032/050 ======== Loss: 1.0401 Accuracy: 0.4632 val_Loss: 1.0339 val_acc: 0.4677 \n",
      "Training time:  106.93 Epoch: 033/050 ======== Loss: 1.0411 Accuracy: 0.4630 val_Loss: 1.0357 val_acc: 0.4700 \n",
      "Training time:  107.2 Epoch: 034/050 ======== Loss: 1.0401 Accuracy: 0.4637 val_Loss: 1.0305 val_acc: 0.4743 \n",
      "Training time:  106.68 Epoch: 035/050 ======== Loss: 1.0414 Accuracy: 0.4633 val_Loss: 1.0328 val_acc: 0.4715 \n",
      "Training time:  107.13 Epoch: 036/050 ======== Loss: 1.0403 Accuracy: 0.4601 val_Loss: 1.0377 val_acc: 0.4616 \n",
      "Training time:  106.88 Epoch: 037/050 ======== Loss: 1.0403 Accuracy: 0.4617 val_Loss: 1.0373 val_acc: 0.4643 \n",
      "Training time:  107.17 Epoch: 038/050 ======== Loss: 1.0413 Accuracy: 0.4572 val_Loss: 1.0407 val_acc: 0.4557 \n",
      "Training time:  107.18 Epoch: 039/050 ======== Loss: 1.0413 Accuracy: 0.4599 val_Loss: 1.0386 val_acc: 0.4615 \n",
      "Training time:  106.86 Epoch: 040/050 ======== Loss: 1.0407 Accuracy: 0.4614 val_Loss: 1.0354 val_acc: 0.4648 \n",
      "Training time:  106.71 Epoch: 041/050 ======== Loss: 1.0398 Accuracy: 0.4664 val_Loss: 1.0291 val_acc: 0.4779 \n",
      "Training time:  107.18 Epoch: 042/050 ======== Loss: 1.0396 Accuracy: 0.4670 val_Loss: 1.0301 val_acc: 0.4792 \n",
      "Training time:  106.77 Epoch: 043/050 ======== Loss: 1.0396 Accuracy: 0.4653 val_Loss: 1.0330 val_acc: 0.4738 \n",
      "Training time:  107.05 Epoch: 044/050 ======== Loss: 1.0395 Accuracy: 0.4645 val_Loss: 1.0341 val_acc: 0.4706 \n",
      "Training time:  107.11 Epoch: 045/050 ======== Loss: 1.0389 Accuracy: 0.4661 val_Loss: 1.0318 val_acc: 0.4741 \n",
      "Training time:  106.83 Epoch: 046/050 ======== Loss: 1.0396 Accuracy: 0.4633 val_Loss: 1.0348 val_acc: 0.4668 \n",
      "Training time:  107.05 Epoch: 047/050 ======== Loss: 1.0400 Accuracy: 0.4636 val_Loss: 1.0360 val_acc: 0.4685 \n",
      "Training time:  106.78 Epoch: 048/050 ======== Loss: 1.0392 Accuracy: 0.4646 val_Loss: 1.0316 val_acc: 0.4733 \n",
      "Training time:  107.02 Epoch: 049/050 ======== Loss: 1.0396 Accuracy: 0.4626 val_Loss: 1.0366 val_acc: 0.4637 \n",
      "Training time:  106.82 Epoch: 050/050 ======== Loss: 1.0391 Accuracy: 0.4663 val_Loss: 1.0310 val_acc: 0.4738 \n"
     ]
    }
   ],
   "source": [
    "cost_matrix = np.array([[0, 1.2, 1.3], [1.1, 0, 1.1], [1.3, 1.2, 0]])\n",
    "GN_pred_c, GN_training_loss_c, GN_val_loss_c = train_predict(X=X_train, Y=Y_train,valX=X_val, \n",
    "                                                             valY=Y_val, batch_size=128,\n",
    "                                                             cost_sensitive_loss=True, cost_matrix=cost_matrix, \n",
    "                                                             model_ckpt_path='model/ckpt5.meta', \n",
    "                                                             epochs=50, model=Condensed_GoogleNet)\n"
   ]
  },
  {
   "cell_type": "code",
   "execution_count": 71,
   "metadata": {},
   "outputs": [
    {
     "name": "stdout",
     "output_type": "stream",
     "text": [
      "No cost sensitive loss: 1.942273000601323\n",
      "with cost sensitive loss: 2.121920637262133\n"
     ]
    }
   ],
   "source": [
    "cm1 = get_confusion_matrix(Y_val, GN_pred)\n",
    "cm2 = get_confusion_matrix(Y_val, GN_pred_c)\n",
    "\n",
    "odds_without_cost = cm1[0,0]/cm1[0,2]\n",
    "odds_with_cost = cm2[0,0]/cm2[0,2]\n",
    "\n",
    "print('No cost sensitive loss:', odds_without_cost)\n",
    "print('with cost sensitive loss:', odds_with_cost)"
   ]
  },
  {
   "cell_type": "markdown",
   "metadata": {},
   "source": [
    "## Implement cost-sensitive Bayesian GoogLeNet to predict return movements on test set"
   ]
  },
  {
   "cell_type": "code",
   "execution_count": 52,
   "metadata": {
    "scrolled": true
   },
   "outputs": [
    {
     "name": "stdout",
     "output_type": "stream",
     "text": [
      "Training time:  150.24 Epoch: 001/050 ======== Loss: 1.0465 Accuracy: 0.4582 val_Loss: 1.0613 val_acc: 0.4433 \n",
      "Training time:  148.99 Epoch: 002/050 ======== Loss: 1.0454 Accuracy: 0.4588 val_Loss: 1.0564 val_acc: 0.4458 \n",
      "Training time:  149.57 Epoch: 003/050 ======== Loss: 1.0428 Accuracy: 0.4666 val_Loss: 1.0698 val_acc: 0.4404 \n",
      "Training time:  149.48 Epoch: 004/050 ======== Loss: 1.0435 Accuracy: 0.4606 val_Loss: 1.0572 val_acc: 0.4440 \n",
      "Training time:  149.46 Epoch: 005/050 ======== Loss: 1.0395 Accuracy: 0.4682 val_Loss: 1.0626 val_acc: 0.4433 \n",
      "Training time:  149.59 Epoch: 006/050 ======== Loss: 1.0390 Accuracy: 0.4679 val_Loss: 1.0650 val_acc: 0.4439 \n",
      "Training time:  149.4 Epoch: 007/050 ======== Loss: 1.0387 Accuracy: 0.4691 val_Loss: 1.0624 val_acc: 0.4435 \n",
      "Training time:  149.67 Epoch: 008/050 ======== Loss: 1.0397 Accuracy: 0.4628 val_Loss: 1.0555 val_acc: 0.4465 \n",
      "Training time:  149.61 Epoch: 009/050 ======== Loss: 1.0384 Accuracy: 0.4679 val_Loss: 1.0585 val_acc: 0.4449 \n",
      "Training time:  149.63 Epoch: 010/050 ======== Loss: 1.0376 Accuracy: 0.4706 val_Loss: 1.0623 val_acc: 0.4412 \n",
      "Training time:  149.48 Epoch: 011/050 ======== Loss: 1.0368 Accuracy: 0.4693 val_Loss: 1.0633 val_acc: 0.4443 \n",
      "Training time:  148.93 Epoch: 012/050 ======== Loss: 1.0366 Accuracy: 0.4703 val_Loss: 1.0629 val_acc: 0.4434 \n",
      "Training time:  149.56 Epoch: 013/050 ======== Loss: 1.0383 Accuracy: 0.4688 val_Loss: 1.0640 val_acc: 0.4419 \n",
      "Training time:  149.89 Epoch: 014/050 ======== Loss: 1.0372 Accuracy: 0.4692 val_Loss: 1.0656 val_acc: 0.4419 \n",
      "Training time:  149.66 Epoch: 015/050 ======== Loss: 1.0371 Accuracy: 0.4693 val_Loss: 1.0638 val_acc: 0.4418 \n",
      "Training time:  149.75 Epoch: 016/050 ======== Loss: 1.0364 Accuracy: 0.4673 val_Loss: 1.0585 val_acc: 0.4469 \n",
      "Training time:  149.08 Epoch: 017/050 ======== Loss: 1.0358 Accuracy: 0.4690 val_Loss: 1.0577 val_acc: 0.4453 \n",
      "Training time:  149.61 Epoch: 018/050 ======== Loss: 1.0380 Accuracy: 0.4655 val_Loss: 1.0591 val_acc: 0.4423 \n",
      "Training time:  149.69 Epoch: 019/050 ======== Loss: 1.0353 Accuracy: 0.4688 val_Loss: 1.0562 val_acc: 0.4460 \n",
      "Training time:  149.67 Epoch: 020/050 ======== Loss: 1.0378 Accuracy: 0.4637 val_Loss: 1.0585 val_acc: 0.4436 \n",
      "Training time:  149.51 Epoch: 021/050 ======== Loss: 1.0350 Accuracy: 0.4710 val_Loss: 1.0611 val_acc: 0.4439 \n",
      "Training time:  149.05 Epoch: 022/050 ======== Loss: 1.0351 Accuracy: 0.4698 val_Loss: 1.0567 val_acc: 0.4465 \n",
      "Training time:  150.06 Epoch: 023/050 ======== Loss: 1.0355 Accuracy: 0.4682 val_Loss: 1.0567 val_acc: 0.4463 \n",
      "Training time:  149.22 Epoch: 024/050 ======== Loss: 1.0356 Accuracy: 0.4708 val_Loss: 1.0635 val_acc: 0.4408 \n",
      "Training time:  149.72 Epoch: 025/050 ======== Loss: 1.0353 Accuracy: 0.4717 val_Loss: 1.0600 val_acc: 0.4437 \n",
      "Training time:  149.77 Epoch: 026/050 ======== Loss: 1.0363 Accuracy: 0.4723 val_Loss: 1.0672 val_acc: 0.4408 \n",
      "Training time:  149.12 Epoch: 027/050 ======== Loss: 1.0356 Accuracy: 0.4721 val_Loss: 1.0635 val_acc: 0.4414 \n",
      "Training time:  149.4 Epoch: 028/050 ======== Loss: 1.0341 Accuracy: 0.4716 val_Loss: 1.0587 val_acc: 0.4470 \n",
      "Training time:  149.84 Epoch: 029/050 ======== Loss: 1.0356 Accuracy: 0.4696 val_Loss: 1.0566 val_acc: 0.4457 \n",
      "Training time:  149.7 Epoch: 030/050 ======== Loss: 1.0364 Accuracy: 0.4710 val_Loss: 1.0660 val_acc: 0.4398 \n",
      "Training time:  149.82 Epoch: 031/050 ======== Loss: 1.0349 Accuracy: 0.4715 val_Loss: 1.0603 val_acc: 0.4439 \n",
      "Training time:  149.73 Epoch: 032/050 ======== Loss: 1.0351 Accuracy: 0.4679 val_Loss: 1.0558 val_acc: 0.4456 \n",
      "Training time:  149.3 Epoch: 033/050 ======== Loss: 1.0341 Accuracy: 0.4724 val_Loss: 1.0612 val_acc: 0.4425 \n",
      "Training time:  149.95 Epoch: 034/050 ======== Loss: 1.0368 Accuracy: 0.4644 val_Loss: 1.0547 val_acc: 0.4451 \n",
      "Training time:  149.22 Epoch: 035/050 ======== Loss: 1.0342 Accuracy: 0.4709 val_Loss: 1.0588 val_acc: 0.4459 \n",
      "Training time:  149.63 Epoch: 036/050 ======== Loss: 1.0361 Accuracy: 0.4679 val_Loss: 1.0549 val_acc: 0.4464 \n",
      "Training time:  148.76 Epoch: 037/050 ======== Loss: 1.0356 Accuracy: 0.4689 val_Loss: 1.0574 val_acc: 0.4451 \n",
      "Training time:  149.64 Epoch: 038/050 ======== Loss: 1.0338 Accuracy: 0.4734 val_Loss: 1.0650 val_acc: 0.4438 \n",
      "Training time:  149.96 Epoch: 039/050 ======== Loss: 1.0345 Accuracy: 0.4720 val_Loss: 1.0636 val_acc: 0.4428 \n",
      "Training time:  149.0 Epoch: 040/050 ======== Loss: 1.0325 Accuracy: 0.4726 val_Loss: 1.0603 val_acc: 0.4447 \n",
      "Training time:  149.4 Epoch: 041/050 ======== Loss: 1.0341 Accuracy: 0.4705 val_Loss: 1.0621 val_acc: 0.4431 \n",
      "Training time:  149.64 Epoch: 042/050 ======== Loss: 1.0331 Accuracy: 0.4724 val_Loss: 1.0584 val_acc: 0.4470 \n",
      "Training time:  148.84 Epoch: 043/050 ======== Loss: 1.0328 Accuracy: 0.4733 val_Loss: 1.0599 val_acc: 0.4443 \n",
      "Training time:  149.6 Epoch: 044/050 ======== Loss: 1.0336 Accuracy: 0.4736 val_Loss: 1.0641 val_acc: 0.4429 \n",
      "Training time:  149.31 Epoch: 045/050 ======== Loss: 1.0355 Accuracy: 0.4697 val_Loss: 1.0611 val_acc: 0.4421 \n",
      "Training time:  149.6 Epoch: 046/050 ======== Loss: 1.0349 Accuracy: 0.4735 val_Loss: 1.0699 val_acc: 0.4386 \n",
      "Training time:  149.13 Epoch: 047/050 ======== Loss: 1.0332 Accuracy: 0.4722 val_Loss: 1.0610 val_acc: 0.4443 \n",
      "Training time:  149.62 Epoch: 048/050 ======== Loss: 1.0335 Accuracy: 0.4734 val_Loss: 1.0633 val_acc: 0.4428 \n",
      "Training time:  148.78 Epoch: 049/050 ======== Loss: 1.0328 Accuracy: 0.4718 val_Loss: 1.0591 val_acc: 0.4445 \n",
      "Training time:  149.5 Epoch: 050/050 ======== Loss: 1.0329 Accuracy: 0.4739 val_Loss: 1.0626 val_acc: 0.4429 \n"
     ]
    },
    {
     "ename": "FileNotFoundError",
     "evalue": "[Errno 2] No such file or directory: 'data/predictions'",
     "output_type": "error",
     "traceback": [
      "\u001b[0;31m---------------------------------------------------------------------------\u001b[0m",
      "\u001b[0;31mFileNotFoundError\u001b[0m                         Traceback (most recent call last)",
      "\u001b[0;32m<ipython-input-52-b36bf1bb37f7>\u001b[0m in \u001b[0;36m<module>\u001b[0;34m()\u001b[0m\n\u001b[1;32m      6\u001b[0m                                                      isBayesian=True, epochs=50, model=Condensed_GoogleNet)\n\u001b[1;32m      7\u001b[0m \u001b[0;34m\u001b[0m\u001b[0m\n\u001b[0;32m----> 8\u001b[0;31m \u001b[0;32mwith\u001b[0m \u001b[0mopen\u001b[0m\u001b[0;34m(\u001b[0m\u001b[0;34m'data/predictions'\u001b[0m\u001b[0;34m,\u001b[0m \u001b[0;34m'wb'\u001b[0m\u001b[0;34m)\u001b[0m \u001b[0;32mas\u001b[0m \u001b[0mp\u001b[0m\u001b[0;34m:\u001b[0m\u001b[0;34m\u001b[0m\u001b[0m\n\u001b[0m\u001b[1;32m      9\u001b[0m     \u001b[0mpickle\u001b[0m\u001b[0;34m.\u001b[0m\u001b[0mdump\u001b[0m\u001b[0;34m(\u001b[0m\u001b[0mpred\u001b[0m\u001b[0;34m,\u001b[0m \u001b[0mp\u001b[0m\u001b[0;34m)\u001b[0m\u001b[0;34m\u001b[0m\u001b[0m\n\u001b[1;32m     10\u001b[0m     \u001b[0mpickle\u001b[0m\u001b[0;34m.\u001b[0m\u001b[0mclose\u001b[0m\u001b[0;34m(\u001b[0m\u001b[0;34m)\u001b[0m\u001b[0;34m\u001b[0m\u001b[0m\n",
      "\u001b[0;31mFileNotFoundError\u001b[0m: [Errno 2] No such file or directory: 'data/predictions'"
     ]
    }
   ],
   "source": [
    "X_train = np.concatenate([X_train, X_val])\n",
    "Y_train = np.concatenate([Y_train, Y_val])\n",
    "\n",
    "pred, training_loss, validation_loss = train_predict(X=X_train, Y=Y_train, batch_size=128, valX=X_test, valY=Y_test, \n",
    "                                                     cost_matrix=cost_matrix, model_ckpt_path='model/ckpt6.meta',\n",
    "                                                     isBayesian=True, epochs=50, model=Condensed_GoogleNet)\n",
    "\n",
    "with open('data/predictions', 'wb') as p:\n",
    "    pickle.dump(pred, p)\n",
    "    pickle.close()"
   ]
  },
  {
   "cell_type": "markdown",
   "metadata": {},
   "source": [
    "## Report relevant statistics on test sets\n",
    "Report the final prediction accuracy on test, and we see that Bayesian learning result outperforms the final single network prediction result. Also, we could look at the confusion matrix to justify the usage of cost sensitive loss function."
   ]
  },
  {
   "cell_type": "code",
   "execution_count": 67,
   "metadata": {},
   "outputs": [
    {
     "name": "stdout",
     "output_type": "stream",
     "text": [
      "bayesian acc = 0.4468722018722019 > val_acc = 0.4429\n"
     ]
    }
   ],
   "source": [
    "bayes_acc = np.mean(np.argmax(pred, axis=1)==np.argmax(Y_test, axis=1))\n",
    "val_acc = 0.4429\n",
    "\n",
    "print('bayesian acc =', bayes_acc, \"> val_acc =\", val_acc)"
   ]
  },
  {
   "cell_type": "code",
   "execution_count": 70,
   "metadata": {},
   "outputs": [
    {
     "name": "stdout",
     "output_type": "stream",
     "text": [
      "[[108301  70775  52540]\n",
      " [ 19514  28270  18368]\n",
      " [ 51410  59200  83022]]\n",
      "odds of long to short, given a predicted signal is long: 2.1066134993191987\n"
     ]
    }
   ],
   "source": [
    "cm = get_confusion_matrix(pred, Y_test)\n",
    "print(cm)\n",
    "print('odds of long to short, given a predicted signal is long:', cm[0,0]/cm[2,0])"
   ]
  }
 ],
 "metadata": {
  "kernelspec": {
   "display_name": "Python 3",
   "language": "python",
   "name": "python3"
  },
  "language_info": {
   "codemirror_mode": {
    "name": "ipython",
    "version": 3
   },
   "file_extension": ".py",
   "mimetype": "text/x-python",
   "name": "python",
   "nbconvert_exporter": "python",
   "pygments_lexer": "ipython3",
   "version": "3.6.7"
  }
 },
 "nbformat": 4,
 "nbformat_minor": 2
}
