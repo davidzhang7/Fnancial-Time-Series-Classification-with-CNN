{
 "cells": [
  {
   "cell_type": "code",
   "execution_count": 116,
   "metadata": {
    "collapsed": true
   },
   "outputs": [],
   "source": [
    "import numpy as np\n",
    "import pandas as pd\n",
    "import pickle\n",
    "\n",
    "from functools import partial\n",
    "from pyts.image import GADF, GASF, MTF # Package to convert time series into images\n",
    "import matplotlib.pyplot as plt\n",
    "import numexpr as ne # Fast way to navigate and search in pd.DataFrame objects\n",
    "import time # Time the program\n",
    "from multiprocessing import Pool # Enable multiprocessing to speed up the code"
   ]
  },
  {
   "cell_type": "markdown",
   "metadata": {},
   "source": [
    "# Loading data\n",
    "\n",
    "Most of the stocks have common trading dates except for very few stocks that don't align with the rest. Take their most common trading dates. Result in loss of only 1 trading date information."
   ]
  },
  {
   "cell_type": "code",
   "execution_count": 18,
   "metadata": {
    "collapsed": true
   },
   "outputs": [],
   "source": [
    "## Run this block of code if it is your first time to load in 'reduced_stock' and try to save them into a new 'newData'\n",
    "\n",
    "# with open('reduced_stock','rb') as p:\n",
    "#     df = pickle.load(p)\n",
    "#     p.close()\n",
    "    \n",
    "# all_permno = np.unique(df.index.values)\n",
    "# all_dates = df.loc[all_permno[0]].date.values\n",
    "# for stockId in all_permno[1:]:\n",
    "#     all_dates = np.intersect1d(all_dates, df.loc[stockId].date.values)\n",
    "# df = df[df.date.isin(all_dates)]\n",
    "\n",
    "# with open('newData','wb') as f:\n",
    "#     pickle.dump(df, f)\n",
    "#     f.close()\n"
   ]
  },
  {
   "cell_type": "code",
   "execution_count": 23,
   "metadata": {
    "collapsed": true
   },
   "outputs": [],
   "source": [
    "with open('newData','rb') as p:\n",
    "    df = pickle.load(p)\n",
    "    p.close()\n",
    "    \n",
    "df = df.reset_index(drop=False).set_index(['PERMNO', 'date'])"
   ]
  },
  {
   "cell_type": "markdown",
   "metadata": {},
   "source": [
    "# Overview of the data\n",
    "The following summarize various aspects of the data to use in the research.\n",
    "\n",
    "1) Number of stocks;\n",
    "\n",
    "2) Number of trading dates; \n",
    "\n",
    "3) Starting vs ending dates; \n",
    "\n",
    "4) Number of features and features names."
   ]
  },
  {
   "cell_type": "code",
   "execution_count": 25,
   "metadata": {},
   "outputs": [
    {
     "name": "stdout",
     "output_type": "stream",
     "text": [
      "number of stocks: 1367\n",
      "number of trading dates: 5539\n",
      "starting date: 19960102\n",
      "ending date: 20171229\n",
      "number of features: 4\n",
      "Feature names: ['PRC' 'VOL' 'BIDLO' 'ASKHI']\n"
     ]
    }
   ],
   "source": [
    "all_permno = np.unique([x[0] for x in df.index.values])\n",
    "all_dates = df.loc[all_permno[0]].index.values\n",
    "nFeatures = df.shape[1]\n",
    "\n",
    "print('number of stocks:', len(all_permno))\n",
    "print('number of trading dates:', len(all_dates))\n",
    "print('starting date:', all_dates.min())\n",
    "print('ending date:', all_dates.max())\n",
    "print('number of features:', nFeatures)\n",
    "print('Feature names:', df.columns.values)"
   ]
  },
  {
   "cell_type": "code",
   "execution_count": 26,
   "metadata": {},
   "outputs": [
    {
     "name": "stdout",
     "output_type": "stream",
     "text": [
      "                    PRC       VOL   BIDLO   ASKHI\n",
      "PERMNO date                                      \n",
      "63773  19960102  39.750   61400.0  39.125  39.875\n",
      "       19960103  39.875  105000.0  39.500  40.125\n",
      "       19960104  39.750   69500.0  39.500  40.000\n",
      "       19960105  40.500   42800.0  39.375  40.500\n",
      "       19960108  40.125   46300.0  40.125  40.625\n",
      "                   PRC        VOL  BIDLO  ASKHI\n",
      "PERMNO date                                    \n",
      "56274  20171222  38.08  2880973.0  37.92  38.26\n",
      "       20171226  38.21  1890332.0  38.02  38.63\n",
      "       20171227  38.07  2696672.0  37.95  38.36\n",
      "       20171228  38.05  1876344.0  37.68  38.22\n",
      "       20171229  37.67  2392097.0  37.65  38.24\n"
     ]
    }
   ],
   "source": [
    "# Some sample data\n",
    "print (df.head())\n",
    "print (df.tail())"
   ]
  },
  {
   "cell_type": "markdown",
   "metadata": {},
   "source": [
    "# Convert time-series into multi-channel images\n",
    "This section bases completely on some papers that proposes the conversion of time-series into graphs. This conversion typically preserves the correlation of time-series while encodes information of time progression. See Wang and Oates (2015), for example."
   ]
  },
  {
   "cell_type": "markdown",
   "metadata": {},
   "source": [
    "## Hyper-parameters settings\n",
    "Hyper parameters description:\n",
    "    1. image_size: the number of pixels for the image generated.\n",
    "    2. data_len: length of the data to construct one single image. Default 252/4, i.e. one quarter of data\n",
    "    3. retrain_freq: for how many days do we re-generate an image. Default 5, i.e. generate new images every week\n",
    "\n",
    "Note that the ratio of data_len/image_size determines how much you compressed orgininal time series to generate images. Also, retrain_freq is directly linked to the information losses: if too small there is too low variation within samples; if too large, too much information lost during resampling, resulting in poor generalization.\n"
   ]
  },
  {
   "cell_type": "code",
   "execution_count": 64,
   "metadata": {
    "collapsed": true
   },
   "outputs": [],
   "source": [
    "image_size = 16\n",
    "data_len = int(252/4)+1\n",
    "retrain_freq = 5\n",
    "nPoints = len(all_dates)"
   ]
  },
  {
   "cell_type": "markdown",
   "metadata": {},
   "source": [
    "## 1-D sample demonstration\n",
    "Only use price as the features for CNN. Used relevant hyper paremters."
   ]
  },
  {
   "cell_type": "code",
   "execution_count": 28,
   "metadata": {},
   "outputs": [
    {
     "name": "stderr",
     "output_type": "stream",
     "text": [
      "/anaconda3/lib/python3.6/site-packages/ipykernel_launcher.py:5: FutureWarning: reshape is deprecated and will raise in a subsequent release. Please use .values.reshape(...) instead\n",
      "  \"\"\"\n"
     ]
    }
   ],
   "source": [
    "OneDimSample = df['PRC']\n",
    "\n",
    "# Example of graphs of one stock throughout sampling period:\n",
    "\n",
    "OneStock1d = OneDimSample.loc[df.index.values[0][0]].reshape((1,-1))\n",
    "gadf, gasf, mtf = GADF(image_size), GASF(image_size), MTF(image_size)\n",
    "OneStockSample1d_gadf, OneStockSample1d_gasf, OneStockSample1d_mtf = [], [], []\n",
    "\n",
    "for i in range(data_len, nPoints, retrain_freq):\n",
    "    series = OneStock1d[:,i-data_len:i]\n",
    "    OneStockSample1d_gadf.append(gadf.fit_transform(series))\n",
    "    OneStockSample1d_gasf.append(gasf.fit_transform(series))\n",
    "    OneStockSample1d_mtf.append(mtf.fit_transform(series))\n"
   ]
  },
  {
   "cell_type": "code",
   "execution_count": 29,
   "metadata": {},
   "outputs": [
    {
     "data": {
      "image/png": "[encoded data removed]",
      "text/plain": [
       "<matplotlib.figure.Figure at 0x111162cc0>"
      ]
     },
     "metadata": {},
     "output_type": "display_data"
    }
   ],
   "source": [
    "# Plot the 1st image (generated by data of first data_len days): GADF, GASF, MTF\n",
    "\n",
    "plt.figure(figsize=(16, 8))\n",
    "plt.subplot(131)\n",
    "plt.imshow(OneStockSample1d_gadf[0].squeeze(), cmap='rainbow', origin='lower')\n",
    "plt.title(\"GADF\", fontsize=16)\n",
    "plt.subplot(132)\n",
    "plt.imshow(OneStockSample1d_gasf[0].squeeze(), cmap='rainbow', origin='lower')\n",
    "plt.title(\"GASF\", fontsize=16)\n",
    "plt.subplot(133)\n",
    "plt.imshow(OneStockSample1d_mtf[0].squeeze(), cmap='rainbow', origin='lower')\n",
    "plt.title(\"MTF\", fontsize=16)\n",
    "plt.show()"
   ]
  },
  {
   "cell_type": "markdown",
   "metadata": {},
   "source": [
    "## 4-Channel sample demo\n",
    "Use all 4 features to construct 4-channel graphs. The way to do it is simply stacking graphs of 4 1-channel graphs produced by time-series of the features."
   ]
  },
  {
   "cell_type": "code",
   "execution_count": 30,
   "metadata": {
    "collapsed": true
   },
   "outputs": [],
   "source": [
    "OneStock4d = df.loc[df.index.values[0][0]].T\n",
    "gadf, gasf, mtf = GADF(image_size), GASF(image_size), MTF(image_size)\n",
    "OneStockSample4d_gadf, OneStockSample4d_gasf, OneStockSample4d_mtf = [], [], []\n",
    "\n",
    "for i in range(data_len, nPoints, retrain_freq):\n",
    "    series = OneStock4d.iloc[:,i-data_len:i].values\n",
    "    OneStockSample4d_gadf.append(gadf.fit_transform(series))\n",
    "    OneStockSample4d_gasf.append(gasf.fit_transform(series))\n",
    "    OneStockSample4d_mtf.append(mtf.fit_transform(series))"
   ]
  },
  {
   "cell_type": "code",
   "execution_count": 31,
   "metadata": {},
   "outputs": [
    {
     "data": {
      "image/png": "[encoded data removed]",
      "text/plain": [
       "<matplotlib.figure.Figure at 0x1112ddeb8>"
      ]
     },
     "metadata": {},
     "output_type": "display_data"
    }
   ],
   "source": [
    "# Plot the 1st image (generated by data of first data_len days): GADF, GASF, MTF\n",
    "\n",
    "plt.figure(figsize=(16, 8))\n",
    "plt.subplot(131)\n",
    "plt.imshow((OneStockSample4d_gadf[0].T+1)*0.5, cmap='rainbow', origin='lower')\n",
    "plt.title(\"GADF\", fontsize=16)\n",
    "plt.subplot(132)\n",
    "plt.imshow((1+OneStockSample4d_gasf[0].T)*0.5, cmap='rainbow', origin='lower')\n",
    "plt.title(\"GASF\", fontsize=16)\n",
    "plt.subplot(133)\n",
    "plt.imshow(OneStockSample4d_mtf[0].T, cmap='rainbow', origin='lower')\n",
    "plt.title(\"MTF\", fontsize=16)\n",
    "plt.show()"
   ]
  },
  {
   "cell_type": "markdown",
   "metadata": {},
   "source": [
    "## Prepare all samples for training and testing\n",
    "\n",
    "The following class gives a general way to convert a series of historical data of one stock into images samples and store them. Due to the relative short period of time used to construct one image, only GADF and GASF samples are created for training. MTF is not information-rich enough in each pixel to capture useful patterns.\n",
    "\n"
   ]
  },
  {
   "cell_type": "code",
   "execution_count": 67,
   "metadata": {
    "collapsed": true
   },
   "outputs": [],
   "source": [
    "class CNNSamples:\n",
    "    \n",
    "    def __init__(self, stockData, \n",
    "                 data_len=64, \n",
    "                 image_size=16, \n",
    "                 retrain_freq=5):\n",
    "        \n",
    "        self.permno = stockData.PERMNO.iloc[0]\n",
    "        self.data = stockData.drop('PERMNO', axis=1).T\n",
    "        self.data_len = data_len\n",
    "        self.image_size = image_size\n",
    "        self.retrain_freq = retrain_freq\n",
    "        self.GADFSample, self.GASFSample = [], []\n",
    "        self.nDays = self.data.shape[1]\n",
    "        self.nSamples = 0\n",
    "        \n",
    "    def getTimeSeriesCNNSample(self):\n",
    "    \n",
    "        gadf, gasf = GADF(self.image_size), GASF(self.image_size)\n",
    "\n",
    "        for i in range(self.data_len, self.nDays, self.retrain_freq):\n",
    "            series = self.data.iloc[:, i-self.data_len:i]\n",
    "            self.GADFSample.append(gadf.fit_transform(series).T)\n",
    "            self.GASFSample.append(gasf.fit_transform(series).T)\n",
    "\n",
    "        self.nSamples = len(self.GADFSample)\n",
    "\n",
    "        return self"
   ]
  },
  {
   "cell_type": "code",
   "execution_count": 75,
   "metadata": {
    "collapsed": true
   },
   "outputs": [],
   "source": [
    "cnn_sample_path = '/Volumes/Seagate Backup Plus Drive/deep learning data/'+str(image_size)+'-pixel/'"
   ]
  },
  {
   "cell_type": "code",
   "execution_count": 130,
   "metadata": {
    "scrolled": true
   },
   "outputs": [
    {
     "name": "stdout",
     "output_type": "stream",
     "text": [
      "--- 297.84384393692017 seconds ---\n",
      "--- 187.26127910614014 seconds ---\n",
      "--- 95.84730291366577 seconds ---\n",
      "--- 73.26574993133545 seconds ---\n",
      "--- 93.94830012321472 seconds ---\n",
      "--- 70.3833601474762 seconds ---\n",
      "--- 63.04068994522095 seconds ---\n",
      "--- 59.831888914108276 seconds ---\n",
      "--- 59.538849115371704 seconds ---\n",
      "--- 60.697993993759155 seconds ---\n",
      "--- 60.862799882888794 seconds ---\n",
      "--- 60.49797010421753 seconds ---\n",
      "--- 60.50847625732422 seconds ---\n",
      "--- 60.446003913879395 seconds ---\n",
      "--- 67.28154683113098 seconds ---\n",
      "--- 61.55858087539673 seconds ---\n",
      "--- 64.11085915565491 seconds ---\n",
      "--- 61.221778869628906 seconds ---\n",
      "--- 60.29181385040283 seconds ---\n",
      "--- 62.116766929626465 seconds ---\n",
      "--- 62.8050639629364 seconds ---\n",
      "--- 61.96343183517456 seconds ---\n",
      "--- 63.460275173187256 seconds ---\n",
      "--- 60.15209603309631 seconds ---\n",
      "--- 59.66234111785889 seconds ---\n",
      "--- 58.319578886032104 seconds ---\n",
      "--- 62.241743087768555 seconds ---\n"
     ]
    }
   ],
   "source": [
    "def partial_call(data):\n",
    "    return CNNSamples(data).getTimeSeriesCNNSample()\n",
    "\n",
    "for i in range(27):\n",
    "    start_time = time.time()\n",
    "\n",
    "    df1 = df.reset_index(level=0, drop=False)\n",
    "\n",
    "    iv = df1.PERMNO    \n",
    "    df_by_permno = [df1[ne.evaluate('iv==x')] for x in all_permno[50*i:50*(i+1)]]\n",
    "    \n",
    "    with Pool() as pool:\n",
    "        res = pool.map(partial_call, df_by_permno)\n",
    "        pool.close()\n",
    "        pool.join()\n",
    "    \n",
    "    with open(cnn_sample_path+'CNNSamples_'+str(i+1), 'wb') as pick:\n",
    "        pickle.dump(res, pick)\n",
    "        pick.close()\n",
    "\n",
    "    print(\"--- %s seconds ---\" % (time.time() - start_time))\n",
    "    # time.sleep(15)"
   ]
  },
  {
   "cell_type": "code",
   "execution_count": 103,
   "metadata": {
    "collapsed": true
   },
   "outputs": [],
   "source": [
    "def getTimeSeriesCNNTarget(df, data_len=64, retrain_freq=5, up_return = 0.0125, down_return = -0.0125):\n",
    "    data = df[['PRC','VOL']]\n",
    "    nSample = len(data)\n",
    "    Targets = []\n",
    "    \n",
    "    for i in range(data_len, nSample, retrain_freq):\n",
    "        if data.VOL.iloc[i-retrain_freq:i].values.sum()>0:\n",
    "            lastVWAP = np.average(data.PRC.iloc[i-retrain_freq:i].values, \n",
    "                                  weights = data.VOL.iloc[i-retrain_freq:i].values)\n",
    "        else:\n",
    "            lastVWAP = data.PRC.iloc[i]\n",
    "        if data.VOL.iloc[i:np.min([nSample-1, i+retrain_freq])].values.sum()>0:\n",
    "            nextVWAP = np.average(data.PRC.iloc[i:np.min([nSample-1, i+retrain_freq])].values, \n",
    "                                  weights = data.VOL.iloc[i:np.min([nSample-1, i+retrain_freq])].values)\n",
    "        else:\n",
    "            nextVWAP = data.PRC.iloc[np.min([nSample-1, i+retrain_freq])]\n",
    "            \n",
    "        VWAPReturn = (nextVWAP - lastVWAP)/lastVWAP\n",
    "        \n",
    "        _long = [1,0,0]\n",
    "        _hold = [0,1,0]\n",
    "        _short = [0,0,1]\n",
    "        \n",
    "        if VWAPReturn > up_return:\n",
    "            Targets.append(_long)\n",
    "        elif VWAPReturn < down_return:\n",
    "            Targets.append(_short)\n",
    "        else:\n",
    "            Targets.append(_hold)\n",
    "            \n",
    "    return (df.PERMNO.iloc[0], Targets)"
   ]
  },
  {
   "cell_type": "code",
   "execution_count": 134,
   "metadata": {},
   "outputs": [
    {
     "name": "stdout",
     "output_type": "stream",
     "text": [
      "--- 237.41995906829834 seconds ---\n"
     ]
    }
   ],
   "source": [
    "start_time = time.time()\n",
    "\n",
    "df1 = df.reset_index(level=0, drop=False)\n",
    "\n",
    "iv = df1.PERMNO\n",
    "\n",
    "df_by_permno = [df1[ne.evaluate('iv==x')] for x in all_permno[:1350]]\n",
    "\n",
    "with Pool() as p:\n",
    "    res = p.map(getTimeSeriesCNNTarget, df_by_permno)\n",
    "    p.close()\n",
    "    p.join()\n",
    "\n",
    "with open(cnn_sample_path+'CNNSamples_target', 'wb') as pick:\n",
    "    pickle.dump(res, pick)\n",
    "    pick.close()\n",
    "\n",
    "print(\"--- %s seconds ---\" % (time.time() - start_time))"
   ]
  }
 ],
 "metadata": {
  "kernelspec": {
   "display_name": "Python 3",
   "language": "python",
   "name": "python3"
  },
  "language_info": {
   "codemirror_mode": {
    "name": "ipython",
    "version": 3
   },
   "file_extension": ".py",
   "mimetype": "text/x-python",
   "name": "python",
   "nbconvert_exporter": "python",
   "pygments_lexer": "ipython3",
   "version": "3.6.3"
  }
 },
 "nbformat": 4,
 "nbformat_minor": 2
}
