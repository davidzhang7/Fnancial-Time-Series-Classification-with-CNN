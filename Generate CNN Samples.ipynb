{
 "cells": [
  {
   "cell_type": "markdown",
   "metadata": {},
   "source": [
    "## Import libraries"
   ]
  },
  {
   "cell_type": "code",
   "execution_count": 1,
   "metadata": {},
   "outputs": [],
   "source": [
    "import numpy as np\n",
    "import pandas as pd\n",
    "import pickle\n",
    "\n",
    "from functools import partial\n",
    "from pyts.image import GADF, GASF, MTF\n",
    "import matplotlib.pyplot as plt\n",
    "import numexpr as ne\n",
    "import time\n",
    "from multiprocessing import Pool, cpu_count\n",
    "\n",
    "from pykalman import KalmanFilter\n",
    "\n",
    "from data_processing_func import *\n",
    "\n",
    "import warnings\n",
    "warnings.filterwarnings('ignore')"
   ]
  },
  {
   "cell_type": "markdown",
   "metadata": {},
   "source": [
    "## Load preprocessed data"
   ]
  },
  {
   "cell_type": "code",
   "execution_count": 3,
   "metadata": {},
   "outputs": [],
   "source": [
    "data_path = 'data/'\n",
    "with open(data_path+'stockData_'+str(1),'rb') as p:\n",
    "    df = pickle.load(p)\n",
    "    p.close()\n",
    "\n",
    "for i in range(1, 27):\n",
    "    with open(data_path+'stockData_'+str(i+1), 'rb') as p:\n",
    "        df1 = pickle.load(p)\n",
    "        df = pd.concat([df, df1])\n",
    "        p.close()\n",
    "\n",
    "df = df.reset_index(drop=False).set_index(['PERMNO','date'])"
   ]
  },
  {
   "cell_type": "markdown",
   "metadata": {},
   "source": [
    "## Data overview\n",
    "Following codes summarize the data in various aspects:\n",
    "\n",
    "1) Number of stocks;\n",
    "\n",
    "2) Number of trading dates;\n",
    "\n",
    "3) Starting vs ending dates;\n",
    "\n",
    "4) Numberof features and names of the features."
   ]
  },
  {
   "cell_type": "code",
   "execution_count": 4,
   "metadata": {},
   "outputs": [
    {
     "name": "stdout",
     "output_type": "stream",
     "text": [
      "# of stocks: 1367\n",
      "# of days: 5539\n",
      "starting from: 19960102 ending at: 20171229\n",
      "# of features: 4\n",
      "features: ['PRC' 'VOL' 'BIDLO' 'ASKHI']\n"
     ]
    }
   ],
   "source": [
    "all_permno = np.unique([x[0] for x in df.index.values])\n",
    "all_dates = np.unique([x[1] for x in df.index.values])\n",
    "nFeatures = df.shape[1]\n",
    "\n",
    "print('# of stocks:', len(all_permno))\n",
    "print('# of days:', len(all_dates))\n",
    "print('starting from:', all_dates.min(), 'ending at:', all_dates.max())\n",
    "print('# of features:', nFeatures)\n",
    "print('features:', df.columns.values)"
   ]
  },
  {
   "cell_type": "code",
   "execution_count": 4,
   "metadata": {},
   "outputs": [
    {
     "name": "stdout",
     "output_type": "stream",
     "text": [
      "                    PRC       VOL   BIDLO   ASKHI\n",
      "PERMNO date                                      \n",
      "63773  19960102  39.750   61400.0  39.125  39.875\n",
      "       19960103  39.875  105000.0  39.500  40.125\n",
      "       19960104  39.750   69500.0  39.500  40.000\n",
      "       19960105  40.500   42800.0  39.375  40.500\n",
      "       19960108  40.125   46300.0  40.125  40.625\n",
      "                   PRC        VOL  BIDLO  ASKHI\n",
      "PERMNO date                                    \n",
      "56274  20171222  38.08  2880973.0  37.92  38.26\n",
      "       20171226  38.21  1890332.0  38.02  38.63\n",
      "       20171227  38.07  2696672.0  37.95  38.36\n",
      "       20171228  38.05  1876344.0  37.68  38.22\n",
      "       20171229  37.67  2392097.0  37.65  38.24\n"
     ]
    }
   ],
   "source": [
    "# Some sample data\n",
    "print(df.head())\n",
    "print(df.tail())"
   ]
  },
  {
   "cell_type": "markdown",
   "metadata": {},
   "source": [
    "## Convert multidimensional time series into multichannel images\n",
    "This section is based on Wang and Oates (2015), where they propose a polar transformation for 1-d time series to map them into a 2 dimensional matrix. Applying this idea, we map a n-d time series into a n-channel images, by stacking 1-d time series converted signle channel images."
   ]
  },
  {
   "cell_type": "markdown",
   "metadata": {},
   "source": [
    "### Some hyperparameters setup\n",
    "Descriptions of some hyperparameters:\n",
    "    1. image_size: # of pixels for each channel in an image. If image_size<length of time-series, PAA will be applied.\n",
    "    2. data_len: length of the time series to construct one single image. Default to 252/4, i.e. one quarter of data.\n",
    "    3. retrain_freq: for how many days do we re-generate an image, which also decides our portfolio rebalance frequency. Default to 5, i.e. weekly rebalance.\n",
    "\n",
    "Notice that data_len/image_size determines how heavily you compress information from the image. Alos, retrain_freq closely associated with variation within samples, as too low retrain_freq results in small differences within samples, giving useless training samples, while too large retrain_freq results in too small sample size."
   ]
  },
  {
   "cell_type": "code",
   "execution_count": 5,
   "metadata": {},
   "outputs": [],
   "source": [
    "image_size = 16 # Compress information for every 4 days;\n",
    "data_len = int(252/4)+1\n",
    "retrain_freq = 5\n",
    "nDays = len(all_dates)"
   ]
  },
  {
   "cell_type": "markdown",
   "metadata": {},
   "source": [
    "## 1-D demo\n",
    "The following provides a 1-D time series example. Only use price feature to convert time series into a single channel image."
   ]
  },
  {
   "cell_type": "code",
   "execution_count": 6,
   "metadata": {},
   "outputs": [],
   "source": [
    "OneDimSample = df['PRC']\n",
    "\n",
    "# Example of graphs of one stock throuhgout the sampling period.\n",
    "\n",
    "OneStock1d = OneDimSample.loc[df.index.values[0][0]].values.reshape((1, -1))\n",
    "gadf, gasf, mtf = GADF(image_size), GASF(image_size), MTF(image_size)\n",
    "_gadf, _gasf, _mtf = [], [], []\n",
    "\n",
    "for i in range(data_len, nDays, retrain_freq):\n",
    "    series = OneStock1d[:, i-data_len:i]\n",
    "    _gadf.append(gadf.fit_transform(series))\n",
    "    _gasf.append(gasf.fit_transform(series))\n",
    "    _mtf.append(mtf.fit_transform(series))"
   ]
  },
  {
   "cell_type": "code",
   "execution_count": 7,
   "metadata": {},
   "outputs": [
    {
     "data": {
      "image/png": "[encoded data removed]",
      "text/plain": [
       "<Figure size 1152x576 with 3 Axes>"
      ]
     },
     "metadata": {
      "needs_background": "light"
     },
     "output_type": "display_data"
    }
   ],
   "source": [
    "# Plot the 1st image (i.e. image generated by first data_len days)\n",
    "\n",
    "plt.figure(figsize=(16, 8))\n",
    "plt.subplot(131)\n",
    "plt.imshow(_gadf[0].squeeze(), cmap='rainbow', origin='lower')\n",
    "plt.title('GADF', fontsize=16)\n",
    "plt.subplot(132)\n",
    "plt.imshow(_gasf[0].squeeze(), cmap='rainbow', origin='lower')\n",
    "plt.title('GASF', fontsize=16)\n",
    "plt.subplot(133)\n",
    "plt.imshow(_mtf[0].squeeze(), cmap='rainbow', origin='lower')\n",
    "plt.title('MTF', fontsize=16)\n",
    "plt.show()"
   ]
  },
  {
   "cell_type": "markdown",
   "metadata": {},
   "source": [
    "### 4-D demo\n",
    "The following provides a 4-D time series example. These 4 features will be used throughout the project."
   ]
  },
  {
   "cell_type": "code",
   "execution_count": 8,
   "metadata": {},
   "outputs": [],
   "source": [
    "OneStock4d = df.loc[df.index.values[0][0]].T\n",
    "gadf, gasf, mtf = GADF(image_size), GASF(image_size), MTF(image_size)\n",
    "_gadf, _gasf, _mtf = [], [], []\n",
    "\n",
    "for i in range(data_len, nDays, retrain_freq):\n",
    "    series = OneStock4d.iloc[:, i-data_len:i].values\n",
    "    _gadf.append(gadf.fit_transform(series))\n",
    "    _gasf.append(gasf.fit_transform(series))\n",
    "    _mtf.append(mtf.fit_transform(series))"
   ]
  },
  {
   "cell_type": "code",
   "execution_count": 9,
   "metadata": {},
   "outputs": [
    {
     "data": {
      "image/png": "[encoded data removed]",
      "text/plain": [
       "<Figure size 1152x576 with 3 Axes>"
      ]
     },
     "metadata": {
      "needs_background": "light"
     },
     "output_type": "display_data"
    }
   ],
   "source": [
    "# Plot the 1st image (i.e. image generated by first data_len days)\n",
    "\n",
    "plt.figure(figsize=(16, 8))\n",
    "plt.subplot(131)\n",
    "plt.imshow((_gadf[0].T+1)/2, cmap='rainbow', origin='lower')\n",
    "plt.title('GADF', fontsize=16)\n",
    "plt.subplot(132)\n",
    "plt.imshow((1+_gasf[0].T)/2, cmap='rainbow', origin='lower')\n",
    "plt.title('GASF', fontsize=16)\n",
    "plt.subplot(133)\n",
    "plt.imshow((_mtf[0].T), cmap='rainbow', origin='lower')\n",
    "plt.title('MTF', fontsize=16)\n",
    "plt.show()"
   ]
  },
  {
   "cell_type": "markdown",
   "metadata": {},
   "source": [
    "## Prepare all samples for training and testing\n",
    "The following class gives a general way to convert series of historical data of one stock into images. Only GADF and GASF are considered, since MTF will result in large information loss when we consider only a short period of time (not enough quantile bins to record enough transition information).\n",
    "\n",
    "An alternative way to implement denoising autoencoder is proposed, by converting images of kalman smoothed and unsmoothed data. Applying this technique, one could try to train with noisy data to recover smoothed images, and extract useful features from it."
   ]
  },
  {
   "cell_type": "code",
   "execution_count": 6,
   "metadata": {},
   "outputs": [],
   "source": [
    "cnn_sample_path = data_path + 'cnn samples/'"
   ]
  },
  {
   "cell_type": "code",
   "execution_count": 13,
   "metadata": {
    "scrolled": true
   },
   "outputs": [
    {
     "name": "stdout",
     "output_type": "stream",
     "text": [
      "--- 61.33695673942566 seconds ---\n",
      "--- 61.806806564331055 seconds ---\n",
      "--- 61.81224775314331 seconds ---\n",
      "--- 60.99805498123169 seconds ---\n",
      "--- 61.56109380722046 seconds ---\n",
      "--- 61.66808748245239 seconds ---\n",
      "--- 61.479650259017944 seconds ---\n",
      "--- 61.456772804260254 seconds ---\n",
      "--- 61.92937970161438 seconds ---\n",
      "--- 61.528236865997314 seconds ---\n",
      "--- 62.02419328689575 seconds ---\n",
      "--- 61.49162244796753 seconds ---\n",
      "--- 62.20219540596008 seconds ---\n",
      "--- 60.653315782547 seconds ---\n",
      "--- 61.73614764213562 seconds ---\n",
      "--- 62.05557894706726 seconds ---\n",
      "--- 61.21392107009888 seconds ---\n",
      "--- 61.57807779312134 seconds ---\n",
      "--- 61.44490194320679 seconds ---\n",
      "--- 61.62975740432739 seconds ---\n",
      "--- 61.411914348602295 seconds ---\n",
      "--- 61.87991786003113 seconds ---\n",
      "--- 61.48481225967407 seconds ---\n",
      "--- 61.54215908050537 seconds ---\n",
      "--- 61.89020657539368 seconds ---\n",
      "--- 60.97550344467163 seconds ---\n",
      "--- 25387.907150030136 seconds ---\n"
     ]
    }
   ],
   "source": [
    "def partial_call(data):\n",
    "    return CNNSamples().getTimeSeriesCNNSample(data)\n",
    "\n",
    "for i in range(27):\n",
    "    start_time = time.time()\n",
    "    \n",
    "    df1 = df.reset_index(level=0, drop=False)\n",
    "    iv = df1.PERMNO\n",
    "    df_by_permno = [df1[ne.evaluate('iv==x')] for x in all_permno[50*i:50*(i+1)]]\n",
    "    \n",
    "    result = []\n",
    "    for dbp in df_by_permno:\n",
    "        result.append(partial_call(dbp))\n",
    "        \n",
    "##    Run with multiprocessing when applicable\n",
    "#     with Pool(cpu_count()) as pool:\n",
    "#         result = pool.map(partial_call, df_by_permno)\n",
    "#         pool.close()\n",
    "#         pool.join()\n",
    "    \n",
    "    with open(cnn_sample_path+'CNNSamples_'+str(i+1), 'wb') as p:\n",
    "        pickle.dump(result, p)\n",
    "        p.close()\n",
    "    \n",
    "    print(\"--- %s seconds ---\" % (time.time()-start_time))"
   ]
  },
  {
   "cell_type": "markdown",
   "metadata": {},
   "source": [
    "## Get the target for training and testing\n",
    "Calcululate target return based on VWAP instead of pure return calculated with close prices. Could serve to denoise."
   ]
  },
  {
   "cell_type": "code",
   "execution_count": 11,
   "metadata": {},
   "outputs": [
    {
     "name": "stdout",
     "output_type": "stream",
     "text": [
      "--- 559.262674331665 seconds ---\n"
     ]
    }
   ],
   "source": [
    "start_time = time.time()\n",
    "\n",
    "df1 = df.reset_index(level=0, drop=False).reset_index(drop=False)\n",
    "iv = df1.PERMNO\n",
    "df_by_permno = [df1[ne.evaluate('iv==x')] for x in all_permno[:27*50]]\n",
    "\n",
    "res = []\n",
    "for dbp in df_by_permno:\n",
    "    res.append(getTimeSeriesCNNTarget(dbp))\n",
    "    \n",
    "# # Run with multiprocessing when applicable\n",
    "# with Pool(cpu_count()) as pool:\n",
    "#     res = pool.map(getTimeSeriesCNNTarget, df_by_permno)\n",
    "#     p.close()\n",
    "#     p.join()\n",
    "\n",
    "with open(cnn_sample_path+'CNNSamples_target', 'wb') as p:\n",
    "    pickle.dump(res, p)\n",
    "    p.close()\n",
    "\n",
    "print(\"--- %s seconds ---\" % (time.time()-start_time))"
   ]
  }
 ],
 "metadata": {
  "kernelspec": {
   "display_name": "Python 3",
   "language": "python",
   "name": "python3"
  },
  "language_info": {
   "codemirror_mode": {
    "name": "ipython",
    "version": 3
   },
   "file_extension": ".py",
   "mimetype": "text/x-python",
   "name": "python",
   "nbconvert_exporter": "python",
   "pygments_lexer": "ipython3",
   "version": "3.6.7"
  }
 },
 "nbformat": 4,
 "nbformat_minor": 2
}
