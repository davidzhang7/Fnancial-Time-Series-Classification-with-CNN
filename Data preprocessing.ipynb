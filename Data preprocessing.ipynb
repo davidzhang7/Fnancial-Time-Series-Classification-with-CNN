{
 "cells": [
  {
   "cell_type": "code",
   "execution_count": 1,
   "metadata": {
    "collapsed": true
   },
   "outputs": [],
   "source": [
    "import numpy as np\n",
    "import pandas as pd\n",
    "import pickle"
   ]
  },
  {
   "cell_type": "code",
   "execution_count": 2,
   "metadata": {},
   "outputs": [
    {
     "name": "stderr",
     "output_type": "stream",
     "text": [
      "/anaconda3/lib/python3.6/site-packages/IPython/core/interactiveshell.py:2698: DtypeWarning: Columns (6,11) have mixed types. Specify dtype option on import or set low_memory=False.\n",
      "  interactivity=interactivity, compiler=compiler, result=result)\n",
      "/anaconda3/lib/python3.6/site-packages/numpy/lib/arraysetops.py:472: FutureWarning: elementwise comparison failed; returning scalar instead, but in the future will perform elementwise comparison\n",
      "  mask |= (ar1 == a)\n"
     ]
    }
   ],
   "source": [
    "raw_path = '/Users/davidcheung/Desktop/deep learning project -group2 additional work package/older versions/new data/'\n",
    "data = pd.DataFrame()\n",
    "data = data.append(pd.read_csv(raw_path+'1996-2001.csv', index_col=0))\n",
    "data = data.append(pd.read_csv(raw_path+'2002-2007.csv', index_col=0))\n",
    "data = data.append(pd.read_csv(raw_path+'2008-2013.csv', index_col=0))\n",
    "data = data.append(pd.read_csv(raw_path+'2014-2017.csv', index_col=0))\n"
   ]
  },
  {
   "cell_type": "code",
   "execution_count": 3,
   "metadata": {},
   "outputs": [
    {
     "data": {
      "text/html": [
       "<div>\n",
       "<style>\n",
       "    .dataframe thead tr:only-child th {\n",
       "        text-align: right;\n",
       "    }\n",
       "\n",
       "    .dataframe thead th {\n",
       "        text-align: left;\n",
       "    }\n",
       "\n",
       "    .dataframe tbody tr th {\n",
       "        vertical-align: top;\n",
       "    }\n",
       "</style>\n",
       "<table border=\"1\" class=\"dataframe\">\n",
       "  <thead>\n",
       "    <tr style=\"text-align: right;\">\n",
       "      <th></th>\n",
       "      <th>date</th>\n",
       "      <th>BIDLO</th>\n",
       "      <th>ASKHI</th>\n",
       "      <th>PRC</th>\n",
       "      <th>VOL</th>\n",
       "      <th>RET</th>\n",
       "      <th>BID</th>\n",
       "      <th>ASK</th>\n",
       "      <th>OPENPRC</th>\n",
       "      <th>NUMTRD</th>\n",
       "      <th>RETX</th>\n",
       "    </tr>\n",
       "    <tr>\n",
       "      <th>PERMNO</th>\n",
       "      <th></th>\n",
       "      <th></th>\n",
       "      <th></th>\n",
       "      <th></th>\n",
       "      <th></th>\n",
       "      <th></th>\n",
       "      <th></th>\n",
       "      <th></th>\n",
       "      <th></th>\n",
       "      <th></th>\n",
       "      <th></th>\n",
       "    </tr>\n",
       "  </thead>\n",
       "  <tbody>\n",
       "    <tr>\n",
       "      <th>10001</th>\n",
       "      <td>19960102</td>\n",
       "      <td>8.75</td>\n",
       "      <td>9.50</td>\n",
       "      <td>-9.125</td>\n",
       "      <td>0.0</td>\n",
       "      <td>-0.026667</td>\n",
       "      <td>8.75</td>\n",
       "      <td>9.5</td>\n",
       "      <td>NaN</td>\n",
       "      <td>0.0</td>\n",
       "      <td>-0.026667</td>\n",
       "    </tr>\n",
       "    <tr>\n",
       "      <th>10001</th>\n",
       "      <td>19960103</td>\n",
       "      <td>9.50</td>\n",
       "      <td>9.50</td>\n",
       "      <td>9.500</td>\n",
       "      <td>119.0</td>\n",
       "      <td>0.041096</td>\n",
       "      <td>8.75</td>\n",
       "      <td>9.5</td>\n",
       "      <td>9.50</td>\n",
       "      <td>1.0</td>\n",
       "      <td>0.041096</td>\n",
       "    </tr>\n",
       "    <tr>\n",
       "      <th>10001</th>\n",
       "      <td>19960104</td>\n",
       "      <td>8.75</td>\n",
       "      <td>9.50</td>\n",
       "      <td>-9.125</td>\n",
       "      <td>0.0</td>\n",
       "      <td>-0.039474</td>\n",
       "      <td>8.75</td>\n",
       "      <td>9.5</td>\n",
       "      <td>NaN</td>\n",
       "      <td>0.0</td>\n",
       "      <td>-0.039474</td>\n",
       "    </tr>\n",
       "    <tr>\n",
       "      <th>10001</th>\n",
       "      <td>19960105</td>\n",
       "      <td>8.75</td>\n",
       "      <td>8.75</td>\n",
       "      <td>8.750</td>\n",
       "      <td>1384.0</td>\n",
       "      <td>-0.041096</td>\n",
       "      <td>8.75</td>\n",
       "      <td>9.5</td>\n",
       "      <td>8.75</td>\n",
       "      <td>2.0</td>\n",
       "      <td>-0.041096</td>\n",
       "    </tr>\n",
       "    <tr>\n",
       "      <th>10001</th>\n",
       "      <td>19960108</td>\n",
       "      <td>8.75</td>\n",
       "      <td>9.50</td>\n",
       "      <td>8.750</td>\n",
       "      <td>1000.0</td>\n",
       "      <td>0.000000</td>\n",
       "      <td>8.75</td>\n",
       "      <td>9.5</td>\n",
       "      <td>9.50</td>\n",
       "      <td>2.0</td>\n",
       "      <td>0.000000</td>\n",
       "    </tr>\n",
       "  </tbody>\n",
       "</table>\n",
       "</div>"
      ],
      "text/plain": [
       "            date  BIDLO  ASKHI    PRC     VOL        RET   BID  ASK  OPENPRC  \\\n",
       "PERMNO                                                                         \n",
       "10001   19960102   8.75   9.50 -9.125     0.0  -0.026667  8.75  9.5      NaN   \n",
       "10001   19960103   9.50   9.50  9.500   119.0   0.041096  8.75  9.5     9.50   \n",
       "10001   19960104   8.75   9.50 -9.125     0.0  -0.039474  8.75  9.5      NaN   \n",
       "10001   19960105   8.75   8.75  8.750  1384.0  -0.041096  8.75  9.5     8.75   \n",
       "10001   19960108   8.75   9.50  8.750  1000.0   0.000000  8.75  9.5     9.50   \n",
       "\n",
       "        NUMTRD       RETX  \n",
       "PERMNO                     \n",
       "10001      0.0  -0.026667  \n",
       "10001      1.0   0.041096  \n",
       "10001      0.0  -0.039474  \n",
       "10001      2.0  -0.041096  \n",
       "10001      2.0   0.000000  "
      ]
     },
     "execution_count": 3,
     "metadata": {},
     "output_type": "execute_result"
    }
   ],
   "source": [
    "data.head()"
   ]
  },
  {
   "cell_type": "markdown",
   "metadata": {},
   "source": [
    "# Data summary\n",
    "This block summarizes number of stocks, number of trading days, start and end dates, as well as features selected for the project"
   ]
  },
  {
   "cell_type": "code",
   "execution_count": 4,
   "metadata": {},
   "outputs": [
    {
     "name": "stdout",
     "output_type": "stream",
     "text": [
      "19836 stocks selected for the study\n",
      "5560 trading days selected for the study\n",
      "Starting from: 19960102 ending from: 20171229\n",
      "Total features selected:  ['BIDLO' 'ASKHI' 'PRC' 'VOL' 'RET' 'BID' 'ASK' 'OPENPRC' 'NUMTRD' 'RETX']\n",
      "Total observation: 40531104\n"
     ]
    }
   ],
   "source": [
    "# Summary of data\n",
    "\n",
    "stockList = np.unique(data.index.values)\n",
    "tradingDates = np.unique(data.date)\n",
    "\n",
    "numOfStock = len(stockList)\n",
    "numOfTradingDate = len(tradingDates)\n",
    "totalStart = tradingDates.min()\n",
    "totalEnd = tradingDates.max()\n",
    "\n",
    "print(numOfStock, 'stocks selected for the study')\n",
    "print(numOfTradingDate, 'trading days selected for the study')\n",
    "print('Starting from:', totalStart, 'ending from:', totalEnd)\n",
    "print('Total features selected: ', data.columns.values[1:])\n",
    "print('Total observation:', len(data))"
   ]
  },
  {
   "cell_type": "code",
   "execution_count": 5,
   "metadata": {
    "collapsed": true
   },
   "outputs": [],
   "source": [
    "# Start with some reduced data: longest traded 500 stocks and two features(PRC and VOL)\n",
    "\n",
    "_, counts = np.unique(data.index.values, return_counts=True)\n",
    "top2000StocksList = stockList[np.argsort(counts)[-1500:]]\n",
    "reduced_stock = data.loc[top2000StocksList][['date','PRC','VOL','BIDLO','ASKHI']]\n",
    "reduced_stock.PRC = reduced_stock.PRC.abs()"
   ]
  },
  {
   "cell_type": "code",
   "execution_count": 6,
   "metadata": {},
   "outputs": [
    {
     "data": {
      "text/html": [
       "<div>\n",
       "<style>\n",
       "    .dataframe thead tr:only-child th {\n",
       "        text-align: right;\n",
       "    }\n",
       "\n",
       "    .dataframe thead th {\n",
       "        text-align: left;\n",
       "    }\n",
       "\n",
       "    .dataframe tbody tr th {\n",
       "        vertical-align: top;\n",
       "    }\n",
       "</style>\n",
       "<table border=\"1\" class=\"dataframe\">\n",
       "  <thead>\n",
       "    <tr style=\"text-align: right;\">\n",
       "      <th></th>\n",
       "      <th>date</th>\n",
       "      <th>PRC</th>\n",
       "      <th>VOL</th>\n",
       "      <th>BIDLO</th>\n",
       "      <th>ASKHI</th>\n",
       "    </tr>\n",
       "    <tr>\n",
       "      <th>PERMNO</th>\n",
       "      <th></th>\n",
       "      <th></th>\n",
       "      <th></th>\n",
       "      <th></th>\n",
       "      <th></th>\n",
       "    </tr>\n",
       "  </thead>\n",
       "  <tbody>\n",
       "    <tr>\n",
       "      <th>63773</th>\n",
       "      <td>19960102</td>\n",
       "      <td>39.750</td>\n",
       "      <td>61400.0</td>\n",
       "      <td>39.125</td>\n",
       "      <td>39.875</td>\n",
       "    </tr>\n",
       "    <tr>\n",
       "      <th>63773</th>\n",
       "      <td>19960103</td>\n",
       "      <td>39.875</td>\n",
       "      <td>105000.0</td>\n",
       "      <td>39.500</td>\n",
       "      <td>40.125</td>\n",
       "    </tr>\n",
       "    <tr>\n",
       "      <th>63773</th>\n",
       "      <td>19960104</td>\n",
       "      <td>39.750</td>\n",
       "      <td>69500.0</td>\n",
       "      <td>39.500</td>\n",
       "      <td>40.000</td>\n",
       "    </tr>\n",
       "    <tr>\n",
       "      <th>63773</th>\n",
       "      <td>19960105</td>\n",
       "      <td>40.500</td>\n",
       "      <td>42800.0</td>\n",
       "      <td>39.375</td>\n",
       "      <td>40.500</td>\n",
       "    </tr>\n",
       "    <tr>\n",
       "      <th>63773</th>\n",
       "      <td>19960108</td>\n",
       "      <td>40.125</td>\n",
       "      <td>46300.0</td>\n",
       "      <td>40.125</td>\n",
       "      <td>40.625</td>\n",
       "    </tr>\n",
       "  </tbody>\n",
       "</table>\n",
       "</div>"
      ],
      "text/plain": [
       "            date     PRC       VOL   BIDLO   ASKHI\n",
       "PERMNO                                            \n",
       "63773   19960102  39.750   61400.0  39.125  39.875\n",
       "63773   19960103  39.875  105000.0  39.500  40.125\n",
       "63773   19960104  39.750   69500.0  39.500  40.000\n",
       "63773   19960105  40.500   42800.0  39.375  40.500\n",
       "63773   19960108  40.125   46300.0  40.125  40.625"
      ]
     },
     "execution_count": 6,
     "metadata": {},
     "output_type": "execute_result"
    }
   ],
   "source": [
    "reduced_stock.head()"
   ]
  },
  {
   "cell_type": "code",
   "execution_count": 7,
   "metadata": {
    "collapsed": true
   },
   "outputs": [],
   "source": [
    "# Eliminate stocks that have too many NaN in between\n",
    "\n",
    "def hasConsecutiveNaN(series, numOfConsecutive=5):\n",
    "    i=0\n",
    "    for x in series:\n",
    "        if np.isnan(x):\n",
    "            flag=True\n",
    "            i+=flag\n",
    "            if i>=5:\n",
    "                return True\n",
    "        else:\n",
    "            flag=False\n",
    "    return False\n",
    "\n",
    "tooManyNaN = []\n",
    "for s in top2000StocksList:\n",
    "    tooManyNaN.append(hasConsecutiveNaN(reduced_stock.loc[s].PRC))"
   ]
  },
  {
   "cell_type": "code",
   "execution_count": 8,
   "metadata": {
    "collapsed": true
   },
   "outputs": [],
   "source": [
    "reduced_stock = reduced_stock.loc[top2000StocksList[~np.array(tooManyNaN)]].fillna(method='ffill')"
   ]
  },
  {
   "cell_type": "code",
   "execution_count": 9,
   "metadata": {
    "collapsed": true
   },
   "outputs": [],
   "source": [
    "with open('reduced_stock','wb') as f:\n",
    "    pickle.dump(reduced_stock, f)\n",
    "    f.close()"
   ]
  },
  {
   "cell_type": "code",
   "execution_count": 10,
   "metadata": {},
   "outputs": [
    {
     "data": {
      "text/html": [
       "<div>\n",
       "<style>\n",
       "    .dataframe thead tr:only-child th {\n",
       "        text-align: right;\n",
       "    }\n",
       "\n",
       "    .dataframe thead th {\n",
       "        text-align: left;\n",
       "    }\n",
       "\n",
       "    .dataframe tbody tr th {\n",
       "        vertical-align: top;\n",
       "    }\n",
       "</style>\n",
       "<table border=\"1\" class=\"dataframe\">\n",
       "  <thead>\n",
       "    <tr style=\"text-align: right;\">\n",
       "      <th></th>\n",
       "      <th>date</th>\n",
       "      <th>PRC</th>\n",
       "      <th>VOL</th>\n",
       "      <th>BIDLO</th>\n",
       "      <th>ASKHI</th>\n",
       "    </tr>\n",
       "    <tr>\n",
       "      <th>PERMNO</th>\n",
       "      <th></th>\n",
       "      <th></th>\n",
       "      <th></th>\n",
       "      <th></th>\n",
       "      <th></th>\n",
       "    </tr>\n",
       "  </thead>\n",
       "  <tbody>\n",
       "    <tr>\n",
       "      <th>56274</th>\n",
       "      <td>20171222</td>\n",
       "      <td>38.08</td>\n",
       "      <td>2880973.0</td>\n",
       "      <td>37.92</td>\n",
       "      <td>38.26</td>\n",
       "    </tr>\n",
       "    <tr>\n",
       "      <th>56274</th>\n",
       "      <td>20171226</td>\n",
       "      <td>38.21</td>\n",
       "      <td>1890332.0</td>\n",
       "      <td>38.02</td>\n",
       "      <td>38.63</td>\n",
       "    </tr>\n",
       "    <tr>\n",
       "      <th>56274</th>\n",
       "      <td>20171227</td>\n",
       "      <td>38.07</td>\n",
       "      <td>2696672.0</td>\n",
       "      <td>37.95</td>\n",
       "      <td>38.36</td>\n",
       "    </tr>\n",
       "    <tr>\n",
       "      <th>56274</th>\n",
       "      <td>20171228</td>\n",
       "      <td>38.05</td>\n",
       "      <td>1876344.0</td>\n",
       "      <td>37.68</td>\n",
       "      <td>38.22</td>\n",
       "    </tr>\n",
       "    <tr>\n",
       "      <th>56274</th>\n",
       "      <td>20171229</td>\n",
       "      <td>37.67</td>\n",
       "      <td>2392097.0</td>\n",
       "      <td>37.65</td>\n",
       "      <td>38.24</td>\n",
       "    </tr>\n",
       "  </tbody>\n",
       "</table>\n",
       "</div>"
      ],
      "text/plain": [
       "            date    PRC        VOL  BIDLO  ASKHI\n",
       "PERMNO                                          \n",
       "56274   20171222  38.08  2880973.0  37.92  38.26\n",
       "56274   20171226  38.21  1890332.0  38.02  38.63\n",
       "56274   20171227  38.07  2696672.0  37.95  38.36\n",
       "56274   20171228  38.05  1876344.0  37.68  38.22\n",
       "56274   20171229  37.67  2392097.0  37.65  38.24"
      ]
     },
     "execution_count": 10,
     "metadata": {},
     "output_type": "execute_result"
    }
   ],
   "source": [
    "reduced_stock.tail()"
   ]
  }
 ],
 "metadata": {
  "kernelspec": {
   "display_name": "Python 3",
   "language": "python",
   "name": "python3"
  },
  "language_info": {
   "codemirror_mode": {
    "name": "ipython",
    "version": 3
   },
   "file_extension": ".py",
   "mimetype": "text/x-python",
   "name": "python",
   "nbconvert_exporter": "python",
   "pygments_lexer": "ipython3",
   "version": "3.6.3"
  }
 },
 "nbformat": 4,
 "nbformat_minor": 2
}
